{
 "cells": [
  {
   "cell_type": "markdown",
   "metadata": {},
   "source": [
    "## Tutorial on integrating ReaktoroBlock into RO unit model on a flowsheet\n",
    "Demonstration of how use Reaktoro block with a unit model from WaterTAP\n",
    "\n",
    "#### Dependencies\n",
    "* Python - Programming language\n",
    "* Pyomo - Python package for equation-oriented modeling\n",
    "* IDAES - Python package extending Pyomo for flowsheet modeling\n",
    "* cyipopt - Solver necessary for use with gray box models\n",
    "* Reaktoro-pse - Python package for building Reaktoro gray box models\n",
    "* WaterTAP - Unit models"
   ]
  },
  {
   "cell_type": "markdown",
   "metadata": {},
   "source": [
    "### Demonstration structure \n",
    "* Setting up basic speciation block and calculating properties for a feed composition\n",
    "    * How to adjust apparent species to achieve thermodynamic equilibrium\n",
    "* Adding Reaktoro block to a [RO WaterTAP](https://watertap.readthedocs.io/en/stable/technical_reference/unit_models/reverse_osmosis_1D.html) model for calculation of local osmotic pressure and scaling tendency\n"
   ]
  },
  {
   "cell_type": "markdown",
   "metadata": {},
   "source": [
    "### Example for speciation of NaCl and use with RO model"
   ]
  },
  {
   "cell_type": "markdown",
   "metadata": {},
   "source": [
    "### Import needed modules"
   ]
  },
  {
   "cell_type": "code",
   "execution_count": 35,
   "metadata": {},
   "outputs": [],
   "source": [
    "## Import core components\n",
    "# Pyomo core components\n",
    "from pyomo.environ import (\n",
    "    Var,\n",
    "    Constraint,\n",
    "    TransformationFactory,\n",
    "    Reals,\n",
    "    ConcreteModel,\n",
    "    value,\n",
    "    assert_optimal_termination,\n",
    "    units as pyunits,\n",
    ")\n",
    "from pyomo.network import Arc\n",
    "\n",
    "# Ideas core components\n",
    "from idaes.core import FlowsheetBlock\n",
    "from idaes.core.util.scaling import (\n",
    "    calculate_scaling_factors,\n",
    "    set_scaling_factor,\n",
    "    constraint_scaling_transform,\n",
    ")\n",
    "\n",
    "from idaes.core.util.model_statistics import degrees_of_freedom\n",
    "from watertap.core.solvers import get_solver\n",
    "\n",
    "from idaes.core.util.initialization import propagate_state\n",
    "\n",
    "from idaes.models.unit_models import Feed\n",
    "from pyomo.util.calc_var_value import calculate_variable_from_constraint\n",
    "\n",
    "# WaterTAP core components\n",
    "from watertap.property_models.NaCl_prop_pack import NaClParameterBlock\n",
    "\n",
    "# WaterTAP core components\n",
    "from watertap.property_models.seawater_prop_pack import SeawaterParameterBlock\n",
    "\n",
    "# Import reaktoro-pse and reaktoro\n",
    "from reaktoro_pse.reaktoro_block import ReaktoroBlock\n",
    "import reaktoro"
   ]
  },
  {
   "cell_type": "markdown",
   "metadata": {},
   "source": [
    "### Incorporating Reaktoro to calculate Seawater properties in Reverse Osmosis Desalination\n",
    "Sea water desalination is a common process. Here it is demonstrated how ReaktoroBlock can be used:\n",
    " 1) Calculate feed density, achieve charge neutrality, and estimate amount of acid need to operate at target pH\n",
    " 2) Calculate osmotic pressure on each node of 1D WaterTAP RO model"
   ]
  },
  {
   "cell_type": "code",
   "execution_count": 36,
   "metadata": {},
   "outputs": [],
   "source": [
    "# This a typical composition of sea water with ion concentration in mg/L and pH\n",
    "\n",
    "sea_water_composition = {\n",
    "    \"Na\": 10556,\n",
    "    \"K\": 380,\n",
    "    \"Ca\": 400,\n",
    "    \"Mg\": 1262,\n",
    "    \"Cl\": 17000,\n",
    "    \"SO4\": 2649,\n",
    "    \"HCO3\": 140,\n",
    "}\n",
    "sea_water_ph = 7.56"
   ]
  },
  {
   "cell_type": "markdown",
   "metadata": {},
   "source": [
    "### Define standard Pyomo model and WaterTAP property package"
   ]
  },
  {
   "cell_type": "code",
   "execution_count": 37,
   "metadata": {},
   "outputs": [],
   "source": [
    "m = ConcreteModel()\n",
    "# create IDAES flowsheet\n",
    "m.fs = FlowsheetBlock(dynamic=False)\n",
    "# can use NaCl or Sea water prop pack\n",
    "prop_pack = \"Seawater\"\n",
    "if prop_pack == \"Seawater\":\n",
    "    # create NaCl property model\n",
    "    m.fs.properties = SeawaterParameterBlock()\n",
    "    bulk_ion = \"TDS\"\n",
    "elif prop_pack == \"NaCl\":\n",
    "    m.fs.properties = NaClParameterBlock()\n",
    "    bulk_ion = \"NaCl\"\n",
    "else:\n",
    "    raise TypeError(f\"{prop_pack} is not valid\")\n",
    "# build feed\n",
    "m.fs.feed = Feed(property_package=m.fs.properties)"
   ]
  },
  {
   "cell_type": "markdown",
   "metadata": {},
   "source": [
    "### Define inputs for Reaktoro and outputs\n",
    "The NaCl and Sea water prop package does not track spiceies so we will create new variable sets to track thesese as well as needed outputs"
   ]
  },
  {
   "cell_type": "code",
   "execution_count": 38,
   "metadata": {},
   "outputs": [],
   "source": [
    "# Get ions\n",
    "ions = list(sea_water_composition.keys())\n",
    "#\n",
    "m.fs.feed.species_concentrations = Var(\n",
    "    ions, initialize=1, bounds=(0, None), units=pyunits.mg / pyunits.L\n",
    ")\n",
    "\n",
    "# ReaktoroBlock needs mass flows of all the species\n",
    "ions.append(\"H2O\")\n",
    "m.fs.feed.species_mass_flow = Var(\n",
    "    ions, initialize=1, bounds=(0, None), units=pyunits.kg / pyunits.s\n",
    ")\n",
    "\n",
    "# Create pH variable for feed\n",
    "m.fs.feed.pH = Var(initialize=sea_water_ph)\n",
    "m.fs.feed.pH.fix()\n",
    "\n",
    "# The solution is not charge neutralized, so to get true TDS, we will need to adjust concentration of one of the ions\"\"\"\n",
    "m.fs.feed.reaktoro_charge = Var(initialize=0, bounds=(None, None))\n",
    "set_scaling_factor(m.fs.feed.reaktoro_charge, 1e8)\n",
    "\n",
    "# To get true flow mass, the density is needed for the solution, we can get that from reaktoro\n",
    "m.fs.feed.reaktoro_density = Var(\n",
    "    initialize=1000, units=pyunits.kg / pyunits.m**3\n",
    ")  # default density unit returned by reaktoro - https://reaktoro.org/api/classReaktoro_1_1ChemicalProps.html#afd97c7985258fa29f5a69634c07a0ac7\n",
    "\n",
    "# We can also get osmotic pressure to compare to NaCl prop pack predictions, and pH after acid addition\n",
    "m.fs.feed.reaktoro_osmotic_pressure = Var(initialize=1, units=pyunits.Pa)\n",
    "m.fs.feed.reaktoro_adjusted_pH = Var(initialize=1, units=pyunits.dimensionless)\n",
    "\n",
    "# We will want to add a dose of acid to the feed to drop the pH to typical operating point of RO\n",
    "m.fs.acid_dose = Var(initialize=0, units=pyunits.mg / pyunits.L)\n",
    "m.fs.acid_mass_flow = Var(\n",
    "    initialize=0, units=pyunits.kg / pyunits.s\n",
    ")  # Reaktoro will use mass flow as input!"
   ]
  },
  {
   "cell_type": "markdown",
   "metadata": {},
   "source": [
    "### Writing constraints for calculation of mass flows"
   ]
  },
  {
   "cell_type": "code",
   "execution_count": 39,
   "metadata": {},
   "outputs": [],
   "source": [
    "# Write constraints to convert concentration to mass flows\n",
    "\n",
    "\n",
    "@m.fs.feed.Constraint(list(m.fs.feed.species_mass_flow.keys()))\n",
    "def eq_feed_species_mass_flow(fs, ion):\n",
    "    if ion == \"H2O\":\n",
    "        return (\n",
    "            m.fs.feed.species_mass_flow[\"H2O\"]\n",
    "            == m.fs.feed.properties[0].flow_mass_phase_comp[\"Liq\", \"H2O\"]\n",
    "        )\n",
    "    else:\n",
    "        \"\"\"calculate mass flow based on density\"\"\"\n",
    "        return m.fs.feed.species_mass_flow[ion] == pyunits.convert(\n",
    "            m.fs.feed.species_concentrations[ion]\n",
    "            * m.fs.feed.properties[0].flow_mass_phase_comp[(\"Liq\", \"H2O\")]\n",
    "            / m.fs.feed.reaktoro_density,\n",
    "            to_units=pyunits.kg / pyunits.s,\n",
    "        )\n",
    "\n",
    "\n",
    "# Need NaCl for the NaCl property package in watertap\n",
    "m.fs.feed.eq_NaCl = Constraint(\n",
    "    expr=m.fs.feed.properties[0].flow_mass_phase_comp[(\"Liq\", bulk_ion)]\n",
    "    == sum(m.fs.feed.species_mass_flow[ion] for ion in m.fs.feed.species_concentrations)\n",
    ")\n",
    "\n",
    "# Calculate acid dose\n",
    "m.fs.eq_acid_dose = Constraint(\n",
    "    expr=m.fs.acid_mass_flow\n",
    "    == pyunits.convert(\n",
    "        m.fs.acid_dose\n",
    "        * m.fs.feed.properties[0].flow_mass_phase_comp[(\"Liq\", \"H2O\")]\n",
    "        / m.fs.feed.reaktoro_density,\n",
    "        to_units=pyunits.kg / pyunits.s,\n",
    "    )\n",
    ")"
   ]
  },
  {
   "cell_type": "markdown",
   "metadata": {},
   "source": [
    "### Reaktoro Block output dict"
   ]
  },
  {
   "cell_type": "code",
   "execution_count": 40,
   "metadata": {},
   "outputs": [],
   "source": [
    "\"\"\"We need to define an output dictionary with our properties - this can also be an Pyomo IndexedVar please check examples in examples folder for how to use IndexedVars as outputs\"\"\"\n",
    "\n",
    "m.fs.feed.reaktoro_outputs = {\n",
    "    (\n",
    "        \"pH\",\n",
    "        None,\n",
    "    ): m.fs.feed.reaktoro_adjusted_pH,  # the \"None\" in second index is defined to indicate its a system property rather then specific component\n",
    "    (\n",
    "        \"osmoticPressure\",\n",
    "        \"H2O\",\n",
    "    ): m.fs.feed.reaktoro_osmotic_pressure,  # not how the second key is the water, we can get osmotic pressure for different components in the system\n",
    "    (\"density\", None): m.fs.feed.reaktoro_density,\n",
    "    (\"charge\", None): m.fs.feed.reaktoro_charge,\n",
    "    \"speciesAmount\": True,\n",
    "}  # - this will force reaktor to return exact speciation with all species"
   ]
  },
  {
   "cell_type": "markdown",
   "metadata": {},
   "source": [
    "### Configure ReaktoroBlock\n",
    "We are dealing with seawater desalination, which implies operation at high salinity and pressure for such conditions the PhreeqC Pitzer data base is a good choice \n",
    "For comparison of PhreeqC data base following paper is a good reference: https://doi.org/10.1016/j.earscirev.2021.103888 "
   ]
  },
  {
   "cell_type": "code",
   "execution_count": 41,
   "metadata": {},
   "outputs": [
    {
     "name": "stdout",
     "output_type": "stream",
     "text": [
      "2024-09-12 21:03:14 [INFO] idaes.reaktoro_pse.core.reaktoro_inputs: Exact speciation is not provided! Fixing aqueous solvent and, excluding H\n",
      "2024-09-12 21:03:14 [INFO] idaes.reaktoro_pse.core.reaktoro_inputs: Exact speciation is not provided! Fixing aqueous solvent and, excluding O\n",
      "2024-09-12 21:03:14 [INFO] idaes.reaktoro_pse.core.reaktoro_gray_box: RKT gray box using BFGS hessian type\n",
      "2024-09-12 21:03:14 [WARNING] idaes.reaktoro_pse.core.reaktoro_inputs: Registered an empty constraint for ['H+', 'OH-'], this can lead to unexpected results depending on reaktoro configuration, please use with caution\n",
      "2024-09-12 21:03:14 [WARNING] idaes.reaktoro_pse.core.reaktoro_inputs: Registered an empty constraint for ['H+', 'OH-'], this can lead to unexpected results depending on reaktoro configuration, please use with caution\n",
      "2024-09-12 21:03:14 [INFO] idaes.reaktoro_pse.core.reaktoro_gray_box: RKT gray box using BFGS hessian type\n"
     ]
    }
   ],
   "source": [
    "from reaktoro_pse.reaktoro_block_config import reaktoro_solver_options\n",
    "\n",
    "\n",
    "m.fs.feed.reaktoro_properties = ReaktoroBlock(\n",
    "    aqueous_phase={\n",
    "        \"composition\": m.fs.feed.species_mass_flow,  # This is the spices mass flow\n",
    "        \"convert_to_rkt_species\": True,  # We can use default converter as its defined for default database (Phreeqc and pitzer)\n",
    "        \"activity_model\": reaktoro.ActivityModelPitzer(),  # Can provide a string, or Reaktoro initialized class\n",
    "        \"fixed_solvent_specie\": \"H2O\",  # We need to define our aqueous solvent as we have to speciate the block\n",
    "    },\n",
    "    system_state={\n",
    "        \"temperature\": m.fs.feed.properties[0].temperature,\n",
    "        \"pressure\": m.fs.feed.properties[0].pressure,\n",
    "        \"pH\": m.fs.feed.pH,\n",
    "    },\n",
    "    outputs=m.fs.feed.reaktoro_outputs,  # outputs we desired\n",
    "    chemistry_modifier={\n",
    "        \"HCl\": m.fs.acid_mass_flow\n",
    "    },  # here we define that we are adding 'HCL' as acid and its mass flow\n",
    "    database=\"PhreeqcDatabase\",  # Can provide a string, or Reaktoro initialized class reaktor.PhreeqcDatabase()\n",
    "    database_file=\"pitzer.dat\",  # needs to be a string that names the database file or points to its location\n",
    "    dissolve_species_in_reaktoro=True,  # This will sum up all species into elements in Reaktoro directly, if set to false, it will build Pyomo constraints instead\n",
    "    assert_charge_neutrality=False,  # This is True by Default, but here we actually want to adjust the input speciation till the charge is zero\n",
    "    reaktoro_solve_options={\n",
    "        \"open_species_on_property_block\": [\n",
    "            \"H+\",\n",
    "            \"OH-\",\n",
    "        ]\n",
    "    },  # This option helps stabilize Reaktoro by providing redundant constraints and generally does not impact final solution.\n",
    "    build_speciation_block=True,  # We provided apparent species so we need to speciate them.\n",
    ")"
   ]
  },
  {
   "cell_type": "markdown",
   "metadata": {},
   "source": [
    "Lets inspect outputs from main reaktoro model\n",
    "\n",
    "Note how we are missing osmoticPressure, and instead have speciesActivityLn and speciesStandardVolume as our outputs, this is becouse we osmoticPressure is a pyomo property, rather a native property supplied by reaktoro. You can inspect how this property is created by checking the:\n",
    "* osmoticPressure in PyomoProperties class located in reaktoro_pse.core.reaktoro_outputs\n",
    "* build_osmotic_constraint in reaktoro_pse.core.pyomo_property_writer.property_functions\n",
    "\n",
    "This two location will also show how we can access reaktoro database to pull out fixed parameters and create a custom pyomo property. "
   ]
  },
  {
   "cell_type": "code",
   "execution_count": 42,
   "metadata": {},
   "outputs": [
    {
     "name": "stdout",
     "output_type": "stream",
     "text": [
      "outputs : Size=21, Index=fs.feed.reaktoro_properties.reaktoro_model._output_names_set\n",
      "    Key                              : Lower : Value : Upper : Fixed : Stale : Domain\n",
      "                    ('charge', None) :  None :   0.1 :  None : False : False :  Reals\n",
      "                   ('density', None) :  None :   0.1 :  None : False : False :  Reals\n",
      "                        ('pH', None) :  None :   0.1 :  None : False : False :  Reals\n",
      "        ('speciesActivityLn', 'H2O') :  None :   0.1 :  None : False : False :  Reals\n",
      "            ('speciesAmount', 'CO2') :  None :   0.1 :  None : False : False :  Reals\n",
      "          ('speciesAmount', 'CO3-2') :  None :   0.1 :  None : False : False :  Reals\n",
      "           ('speciesAmount', 'Ca+2') :  None :   0.1 :  None : False : False :  Reals\n",
      "            ('speciesAmount', 'Cl-') :  None :   0.1 :  None : False : False :  Reals\n",
      "             ('speciesAmount', 'H+') :  None :   0.1 :  None : False : False :  Reals\n",
      "            ('speciesAmount', 'H2O') :  None :   0.1 :  None : False : False :  Reals\n",
      "          ('speciesAmount', 'HCO3-') :  None :   0.1 :  None : False : False :  Reals\n",
      "          ('speciesAmount', 'HSO4-') :  None :   0.1 :  None : False : False :  Reals\n",
      "             ('speciesAmount', 'K+') :  None :   0.1 :  None : False : False :  Reals\n",
      "           ('speciesAmount', 'Mg+2') :  None :   0.1 :  None : False : False :  Reals\n",
      "          ('speciesAmount', 'MgCO3') :  None :   0.1 :  None : False : False :  Reals\n",
      "          ('speciesAmount', 'MgOH+') :  None :   0.1 :  None : False : False :  Reals\n",
      "            ('speciesAmount', 'Na+') :  None :   0.1 :  None : False : False :  Reals\n",
      "            ('speciesAmount', 'OH-') :  None :   0.1 :  None : False : False :  Reals\n",
      "          ('speciesAmount', 'SO4-2') :  None :   0.1 :  None : False : False :  Reals\n",
      "    ('speciesStandardVolume', 'H2O') :  None :   0.1 :  None : False : False :  Reals\n",
      "               ('temperature', None) :  None :   0.1 :  None : False : False :  Reals\n"
     ]
    }
   ],
   "source": [
    "m.fs.feed.reaktoro_properties.reaktoro_model.outputs.display()"
   ]
  },
  {
   "cell_type": "markdown",
   "metadata": {},
   "source": [
    "### Set default values for feed and scaling"
   ]
  },
  {
   "cell_type": "code",
   "execution_count": 43,
   "metadata": {},
   "outputs": [],
   "source": [
    "m.fs.feed.properties[0].temperature.fix(273 + 25)  # temperature (K)\n",
    "m.fs.feed.properties[0].pressure.fix(101325)  # pressure (Pa)\n",
    "m.fs.feed.properties[0].flow_mass_phase_comp[\"Liq\", \"H2O\"].fix(\n",
    "    0.965\n",
    ")  # mass flowrate of H2O (kg/s)\n",
    "m.fs.feed.properties[0].conc_mass_phase_comp[...]  # construct concentration props\n",
    "m.fs.feed.properties[0].pressure_osm_phase[...]\n",
    "m.fs.properties.set_default_scaling(\n",
    "    \"flow_mass_phase_comp\",\n",
    "    1 / 0.965,\n",
    "    index=(\"Liq\", \"H2O\"),\n",
    ")\n",
    "m.fs.properties.set_default_scaling(\n",
    "    \"flow_mass_phase_comp\",\n",
    "    1 / 0.035,  # aproximage scale\n",
    "    index=(\"Liq\", bulk_ion),\n",
    ")"
   ]
  },
  {
   "cell_type": "markdown",
   "metadata": {},
   "source": [
    "### Initialize our composition constraints and scale all the variables"
   ]
  },
  {
   "cell_type": "code",
   "execution_count": 44,
   "metadata": {},
   "outputs": [],
   "source": [
    "for ion, value in sea_water_composition.items():\n",
    "    m.fs.feed.species_concentrations[ion].fix(value)\n",
    "    set_scaling_factor(m.fs.feed.species_concentrations[ion], 1 / value)\n",
    "\n",
    "for comp, pyoobj in m.fs.feed.eq_feed_species_mass_flow.items():\n",
    "    calculate_variable_from_constraint(m.fs.feed.species_mass_flow[comp], pyoobj)\n",
    "    set_scaling_factor(\n",
    "        m.fs.feed.species_mass_flow[ion], 1 / m.fs.feed.species_mass_flow[comp].value\n",
    "    )\n",
    "    constraint_scaling_transform(pyoobj, 1 / m.fs.feed.species_mass_flow[comp].value)\n",
    "\n",
    "\n",
    "calculate_variable_from_constraint(\n",
    "    m.fs.feed.properties[0].flow_mass_phase_comp[(\"Liq\", bulk_ion)], m.fs.feed.eq_NaCl\n",
    ")\n",
    "constraint_scaling_transform(m.fs.feed.eq_NaCl, 1 / 0.035)\n",
    "\n",
    "set_scaling_factor(m.fs.feed.reaktoro_density, 1 / 1000)\n",
    "set_scaling_factor(m.fs.feed.reaktoro_osmotic_pressure, 1 / 1e5)\n",
    "set_scaling_factor(m.fs.feed.reaktoro_adjusted_pH, 1)\n",
    "set_scaling_factor(m.fs.feed.pH, 1)\n",
    "set_scaling_factor(m.fs.acid_mass_flow, 1e2)\n",
    "set_scaling_factor(m.fs.acid_dose, 1e-3)\n",
    "set_scaling_factor(m.fs.feed.reaktoro_charge, 1e8)"
   ]
  },
  {
   "cell_type": "markdown",
   "metadata": {},
   "source": [
    "### Intialize feed and reaktoro block. \n",
    "Reaktoro initialization does several steps:\n",
    "\n",
    "1) Initialize input constraints propagating them from user variables to Reaktoro graybox inputs\n",
    "2) Solve the Reaktoro block to get output properties \n",
    "3) Propagate Reaktoro solution through output constraints and to output variables \n",
    "4) Scale all input and output variables and constraints using either user provided scaling factors or by inverse of their value \n",
    "5) Scale the jacobian using user provided scaling or inverse of scaling factors of the gray box outputs\n",
    "\n",
    "This will in general provide a well scaled problem. "
   ]
  },
  {
   "cell_type": "code",
   "execution_count": 45,
   "metadata": {},
   "outputs": [
    {
     "name": "stdout",
     "output_type": "stream",
     "text": [
      "2024-09-12 21:03:14 [INFO] idaes.init.fs.feed.properties: fs.feed.properties State Released.\n",
      "2024-09-12 21:03:14 [INFO] idaes.init.fs.feed: Initialization Complete.\n",
      "2024-09-12 21:03:14 [INFO] idaes.reaktoro_pse.reaktoro_block: ---initializing speciation block fs.feed.reaktoro_properties----\n",
      "2024-09-12 21:03:14 [INFO] idaes.reaktoro_pse.core.reaktoro_state: Equilibrated successfully\n",
      "2024-09-12 21:03:14 [INFO] idaes.reaktoro_pse.core.reaktoro_block_builder: Initialized rkt block\n",
      "2024-09-12 21:03:14 [INFO] idaes.reaktoro_pse.reaktoro_block: ---initializing property block fs.feed.reaktoro_properties----\n",
      "2024-09-12 21:03:14 [INFO] idaes.reaktoro_pse.core.reaktoro_state: Equilibrated successfully\n",
      "2024-09-12 21:03:15 [INFO] idaes.reaktoro_pse.core.reaktoro_block_builder: Initialized rkt block\n",
      "outputs : Size=15, Index={('speciesAmount', 'MgCO3'), ('speciesAmount', 'OH-'), ('speciesAmount', 'CO2'), ('speciesAmount', 'Cl-'), ('speciesAmount', 'HCO3-'), ('speciesAmount', 'Ca+2'), ('speciesAmount', 'Na+'), ('speciesAmount', 'H+'), ('speciesAmount', 'MgOH+'), ('speciesAmount', 'Mg+2'), ('speciesAmount', 'CO3-2'), ('speciesAmount', 'K+'), ('speciesAmount', 'H2O'), ('speciesAmount', 'SO4-2'), ('speciesAmount', 'HSO4-')}\n",
      "    Key                        : Lower : Value                  : Upper : Fixed : Stale : Domain\n",
      "      ('speciesAmount', 'CO2') :  None :  8.114686961181917e-05 :  None : False : False :  Reals\n",
      "    ('speciesAmount', 'CO3-2') :  None :    2.1445433580077e-05 :  None : False : False :  Reals\n",
      "     ('speciesAmount', 'Ca+2') :  None :   0.009631002164385625 :  None : False : False :  Reals\n",
      "      ('speciesAmount', 'Cl-') :  None :     0.4627181384403513 :  None : False : False :  Reals\n",
      "       ('speciesAmount', 'H+') :  None :  3.698040414274932e-08 :  None : False : False :  Reals\n",
      "      ('speciesAmount', 'H2O') :  None :      53.56349911190052 :  None : False : False :  Reals\n",
      "    ('speciesAmount', 'HCO3-') :  None :   0.002128396381628784 :  None : False : False :  Reals\n",
      "    ('speciesAmount', 'HSO4-') :  None : 1.0015065683702304e-08 :  None : False : False :  Reals\n",
      "       ('speciesAmount', 'K+') :  None :   0.009379055998898626 :  None : False : False :  Reals\n",
      "     ('speciesAmount', 'Mg+2') :  None :    0.05008757813300742 :  None : False : False :  Reals\n",
      "    ('speciesAmount', 'MgCO3') :  None :  2.022034257540142e-05 :  None : False : False :  Reals\n",
      "    ('speciesAmount', 'MgOH+') :  None :  6.144821296573801e-07 :  None : False : False :  Reals\n",
      "      ('speciesAmount', 'Na+') :  None :     0.4431001172616517 :  None : False : False :  Reals\n",
      "      ('speciesAmount', 'OH-') :  None :  5.820318169892357e-07 :  None : False : False :  Reals\n",
      "    ('speciesAmount', 'SO4-2') :  None :   0.026609914667020566 :  None : False : False :  Reals\n",
      "Density reaktoro 1022.0762152208721 Density Seawater pack 1020.8392240913253\n",
      "Osmotic pressure 2306930.3923933315 Density Seawater pack 2306399.8414143943\n",
      "Adjusted pH 7.560000000025274\n",
      "Solution reaktoro_charge 0.05380713824780617\n"
     ]
    },
    {
     "name": "stderr",
     "output_type": "stream",
     "text": [
      "D:\\github\\reaktoro-pse\\src\\reaktoro_pse\\core\\reaktoro_jacobian.py:324: RuntimeWarning: invalid value encountered in divide\n",
      "  jac_val = np.average(diff / step)\n"
     ]
    }
   ],
   "source": [
    "solver = get_solver()  # get solver\n",
    "m.fs.feed.initialize(optarg=solver.options)\n",
    "m.fs.feed.reaktoro_properties.initialize()\n",
    "# this is our exact composition!\n",
    "m.fs.feed.reaktoro_properties.outputs.display()\n",
    "\n",
    "# and these are manually defined properties and variables of interest\n",
    "print(\n",
    "    \"Density reaktoro\",\n",
    "    m.fs.feed.reaktoro_density.value,\n",
    "    f\"Density {prop_pack} pack\",\n",
    "    m.fs.feed.properties[0].dens_mass_phase[\"Liq\"].value,\n",
    ")\n",
    "print(\n",
    "    \"Osmotic pressure\",\n",
    "    m.fs.feed.reaktoro_osmotic_pressure.value,\n",
    "    f\"Density {prop_pack} pack\",\n",
    "    m.fs.feed.properties[0].pressure_osm_phase[\"Liq\"].value,\n",
    ")\n",
    "print(\"Adjusted pH\", m.fs.feed.reaktoro_adjusted_pH.value)\n",
    "print(\"Solution reaktoro_charge\", m.fs.feed.reaktoro_charge.value)"
   ]
  },
  {
   "cell_type": "markdown",
   "metadata": {},
   "source": [
    "We can check the jacobian scaling using provided tool, it will also return a dictionary with scaling factors. "
   ]
  },
  {
   "cell_type": "code",
   "execution_count": 46,
   "metadata": {},
   "outputs": [
    {
     "name": "stdout",
     "output_type": "stream",
     "text": [
      "2024-09-12 21:03:15 [INFO] idaes.reaktoro_pse.reaktoro_block: -----Displaying information for speciation block ------\n",
      "2024-09-12 21:03:15 [INFO] idaes.reaktoro_pse.core.reaktoro_block_builder: Jacobian scale for ('speciesAmount', 'H+') : 3.69804041447456e-08, IDX: 0\n",
      "2024-09-12 21:03:15 [INFO] idaes.reaktoro_pse.core.reaktoro_block_builder: Jacobian scale for ('speciesAmount', 'H2O') : 53.563499111900505, IDX: 1\n",
      "2024-09-12 21:03:15 [INFO] idaes.reaktoro_pse.core.reaktoro_block_builder: Jacobian scale for ('speciesAmount', 'CO3-2') : 2.1445433578637304e-05, IDX: 2\n",
      "2024-09-12 21:03:15 [INFO] idaes.reaktoro_pse.core.reaktoro_block_builder: Jacobian scale for ('speciesAmount', 'CO2') : 8.11468696171412e-05, IDX: 3\n",
      "2024-09-12 21:03:15 [INFO] idaes.reaktoro_pse.core.reaktoro_block_builder: Jacobian scale for ('speciesAmount', 'Ca+2') : 0.009631002164385663, IDX: 4\n",
      "2024-09-12 21:03:15 [INFO] idaes.reaktoro_pse.core.reaktoro_block_builder: Jacobian scale for ('speciesAmount', 'Cl-') : 0.46271813844035137, IDX: 5\n",
      "2024-09-12 21:03:15 [INFO] idaes.reaktoro_pse.core.reaktoro_block_builder: Jacobian scale for ('speciesAmount', 'HCO3-') : 0.0021283963816255535, IDX: 6\n",
      "2024-09-12 21:03:15 [INFO] idaes.reaktoro_pse.core.reaktoro_block_builder: Jacobian scale for ('speciesAmount', 'SO4-2') : 0.026609914667020562, IDX: 7\n",
      "2024-09-12 21:03:15 [INFO] idaes.reaktoro_pse.core.reaktoro_block_builder: Jacobian scale for ('speciesAmount', 'HSO4-') : 1.0015065684362347e-08, IDX: 8\n",
      "2024-09-12 21:03:15 [INFO] idaes.reaktoro_pse.core.reaktoro_block_builder: Jacobian scale for ('speciesAmount', 'Mg+2') : 0.0500875781330082, IDX: 9\n",
      "2024-09-12 21:03:15 [INFO] idaes.reaktoro_pse.core.reaktoro_block_builder: Jacobian scale for ('speciesAmount', 'K+') : 0.009379055998898635, IDX: 10\n",
      "2024-09-12 21:03:15 [INFO] idaes.reaktoro_pse.core.reaktoro_block_builder: Jacobian scale for ('speciesAmount', 'MgCO3') : 2.022034257474189e-05, IDX: 11\n",
      "2024-09-12 21:03:15 [INFO] idaes.reaktoro_pse.core.reaktoro_block_builder: Jacobian scale for ('speciesAmount', 'MgOH+') : 6.144821296279714e-07, IDX: 12\n",
      "2024-09-12 21:03:15 [INFO] idaes.reaktoro_pse.core.reaktoro_block_builder: Jacobian scale for ('speciesAmount', 'Na+') : 0.44310011726165166, IDX: 13\n",
      "2024-09-12 21:03:15 [INFO] idaes.reaktoro_pse.core.reaktoro_block_builder: Jacobian scale for ('speciesAmount', 'OH-') : 5.820318169524704e-07, IDX: 14\n",
      "2024-09-12 21:03:15 [INFO] idaes.reaktoro_pse.reaktoro_block: -----Displaying information for property block ------\n",
      "2024-09-12 21:03:15 [INFO] idaes.reaktoro_pse.core.reaktoro_block_builder: Jacobian scale for ('pH', None) : 1.0, IDX: 0\n",
      "2024-09-12 21:03:15 [INFO] idaes.reaktoro_pse.core.reaktoro_block_builder: Jacobian scale for ('speciesStandardVolume', 'H2O') : 1.8068735534310952e-05, IDX: 1\n",
      "2024-09-12 21:03:15 [INFO] idaes.reaktoro_pse.core.reaktoro_block_builder: Jacobian scale for ('speciesActivityLn', 'H2O') : 0.016823324806228907, IDX: 2\n",
      "2024-09-12 21:03:15 [INFO] idaes.reaktoro_pse.core.reaktoro_block_builder: Jacobian scale for ('temperature', None) : 298.00000000000006, IDX: 3\n",
      "2024-09-12 21:03:15 [INFO] idaes.reaktoro_pse.core.reaktoro_block_builder: Jacobian scale for ('density', None) : 1000.0, IDX: 4\n",
      "2024-09-12 21:03:15 [INFO] idaes.reaktoro_pse.core.reaktoro_block_builder: Jacobian scale for ('charge', None) : 1e-08, IDX: 5\n",
      "2024-09-12 21:03:15 [INFO] idaes.reaktoro_pse.core.reaktoro_block_builder: Jacobian scale for ('speciesAmount', 'H+') : 3.6980404142749385e-08, IDX: 6\n",
      "2024-09-12 21:03:15 [INFO] idaes.reaktoro_pse.core.reaktoro_block_builder: Jacobian scale for ('speciesAmount', 'H2O') : 53.563499111900505, IDX: 7\n",
      "2024-09-12 21:03:15 [INFO] idaes.reaktoro_pse.core.reaktoro_block_builder: Jacobian scale for ('speciesAmount', 'CO3-2') : 2.1445433580077033e-05, IDX: 8\n",
      "2024-09-12 21:03:15 [INFO] idaes.reaktoro_pse.core.reaktoro_block_builder: Jacobian scale for ('speciesAmount', 'CO2') : 8.114686961181937e-05, IDX: 9\n",
      "2024-09-12 21:03:15 [INFO] idaes.reaktoro_pse.core.reaktoro_block_builder: Jacobian scale for ('speciesAmount', 'Ca+2') : 0.009631002164385623, IDX: 10\n",
      "2024-09-12 21:03:15 [INFO] idaes.reaktoro_pse.core.reaktoro_block_builder: Jacobian scale for ('speciesAmount', 'Cl-') : 0.46271813844035137, IDX: 11\n",
      "2024-09-12 21:03:15 [INFO] idaes.reaktoro_pse.core.reaktoro_block_builder: Jacobian scale for ('speciesAmount', 'HCO3-') : 0.0021283963816287857, IDX: 12\n",
      "2024-09-12 21:03:15 [INFO] idaes.reaktoro_pse.core.reaktoro_block_builder: Jacobian scale for ('speciesAmount', 'SO4-2') : 0.026609914667020562, IDX: 13\n",
      "2024-09-12 21:03:15 [INFO] idaes.reaktoro_pse.core.reaktoro_block_builder: Jacobian scale for ('speciesAmount', 'HSO4-') : 1.0015065683702319e-08, IDX: 14\n",
      "2024-09-12 21:03:15 [INFO] idaes.reaktoro_pse.core.reaktoro_block_builder: Jacobian scale for ('speciesAmount', 'Mg+2') : 0.05008757813300744, IDX: 15\n",
      "2024-09-12 21:03:15 [INFO] idaes.reaktoro_pse.core.reaktoro_block_builder: Jacobian scale for ('speciesAmount', 'K+') : 0.009379055998898635, IDX: 16\n",
      "2024-09-12 21:03:15 [INFO] idaes.reaktoro_pse.core.reaktoro_block_builder: Jacobian scale for ('speciesAmount', 'MgCO3') : 2.0220342575401426e-05, IDX: 17\n",
      "2024-09-12 21:03:15 [INFO] idaes.reaktoro_pse.core.reaktoro_block_builder: Jacobian scale for ('speciesAmount', 'MgOH+') : 6.144821296573815e-07, IDX: 18\n",
      "2024-09-12 21:03:15 [INFO] idaes.reaktoro_pse.core.reaktoro_block_builder: Jacobian scale for ('speciesAmount', 'Na+') : 0.44310011726165177, IDX: 19\n",
      "2024-09-12 21:03:15 [INFO] idaes.reaktoro_pse.core.reaktoro_block_builder: Jacobian scale for ('speciesAmount', 'OH-') : 5.820318169892369e-07, IDX: 20\n"
     ]
    }
   ],
   "source": [
    "jac_scaling_dict = m.fs.feed.reaktoro_properties.display_jacobian_scaling()"
   ]
  },
  {
   "cell_type": "code",
   "execution_count": 47,
   "metadata": {},
   "outputs": [
    {
     "name": "stdout",
     "output_type": "stream",
     "text": [
      "2024-09-12 21:03:15 [INFO] idaes.reaktoro_pse.reaktoro_block: -----Displaying information for speciation block ------\n",
      "2024-09-12 21:03:15 [INFO] idaes.reaktoro_pse.core.reaktoro_jacobian: -----displaying jacobian outputs and types-----\n",
      "2024-09-12 21:03:15 [INFO] idaes.reaktoro_pse.core.reaktoro_jacobian: ('speciesAmount', 'H+'): Jac type: exact\n",
      "2024-09-12 21:03:15 [INFO] idaes.reaktoro_pse.core.reaktoro_jacobian: ('speciesAmount', 'H2O'): Jac type: exact\n",
      "2024-09-12 21:03:15 [INFO] idaes.reaktoro_pse.core.reaktoro_jacobian: ('speciesAmount', 'CO3-2'): Jac type: exact\n",
      "2024-09-12 21:03:15 [INFO] idaes.reaktoro_pse.core.reaktoro_jacobian: ('speciesAmount', 'CO2'): Jac type: exact\n",
      "2024-09-12 21:03:15 [INFO] idaes.reaktoro_pse.core.reaktoro_jacobian: ('speciesAmount', 'Ca+2'): Jac type: exact\n",
      "2024-09-12 21:03:15 [INFO] idaes.reaktoro_pse.core.reaktoro_jacobian: ('speciesAmount', 'Cl-'): Jac type: exact\n",
      "2024-09-12 21:03:15 [INFO] idaes.reaktoro_pse.core.reaktoro_jacobian: ('speciesAmount', 'HCO3-'): Jac type: exact\n",
      "2024-09-12 21:03:15 [INFO] idaes.reaktoro_pse.core.reaktoro_jacobian: ('speciesAmount', 'SO4-2'): Jac type: exact\n",
      "2024-09-12 21:03:15 [INFO] idaes.reaktoro_pse.core.reaktoro_jacobian: ('speciesAmount', 'HSO4-'): Jac type: exact\n",
      "2024-09-12 21:03:15 [INFO] idaes.reaktoro_pse.core.reaktoro_jacobian: ('speciesAmount', 'Mg+2'): Jac type: exact\n",
      "2024-09-12 21:03:15 [INFO] idaes.reaktoro_pse.core.reaktoro_jacobian: ('speciesAmount', 'K+'): Jac type: exact\n",
      "2024-09-12 21:03:15 [INFO] idaes.reaktoro_pse.core.reaktoro_jacobian: ('speciesAmount', 'MgCO3'): Jac type: exact\n",
      "2024-09-12 21:03:15 [INFO] idaes.reaktoro_pse.core.reaktoro_jacobian: ('speciesAmount', 'MgOH+'): Jac type: exact\n",
      "2024-09-12 21:03:15 [INFO] idaes.reaktoro_pse.core.reaktoro_jacobian: ('speciesAmount', 'Na+'): Jac type: exact\n",
      "2024-09-12 21:03:15 [INFO] idaes.reaktoro_pse.core.reaktoro_jacobian: ('speciesAmount', 'OH-'): Jac type: exact\n",
      "2024-09-12 21:03:15 [INFO] idaes.reaktoro_pse.core.reaktoro_jacobian: -----done-----\n",
      "2024-09-12 21:03:15 [INFO] idaes.reaktoro_pse.reaktoro_block: -----Displaying information for property block ------\n",
      "2024-09-12 21:03:15 [INFO] idaes.reaktoro_pse.core.reaktoro_jacobian: -----displaying jacobian outputs and types-----\n",
      "2024-09-12 21:03:15 [INFO] idaes.reaktoro_pse.core.reaktoro_jacobian: ('pH', None): Jac type: numeric\n",
      "2024-09-12 21:03:15 [INFO] idaes.reaktoro_pse.core.reaktoro_jacobian: ('speciesStandardVolume', 'H2O'): Jac type: exact\n",
      "2024-09-12 21:03:15 [INFO] idaes.reaktoro_pse.core.reaktoro_jacobian: ('speciesActivityLn', 'H2O'): Jac type: exact\n",
      "2024-09-12 21:03:15 [INFO] idaes.reaktoro_pse.core.reaktoro_jacobian: ('temperature', None): Jac type: exact\n",
      "2024-09-12 21:03:15 [INFO] idaes.reaktoro_pse.core.reaktoro_jacobian: ('density', None): Jac type: numeric\n",
      "2024-09-12 21:03:15 [INFO] idaes.reaktoro_pse.core.reaktoro_jacobian: ('charge', None): Jac type: numeric\n",
      "2024-09-12 21:03:15 [INFO] idaes.reaktoro_pse.core.reaktoro_jacobian: ('speciesAmount', 'H+'): Jac type: exact\n",
      "2024-09-12 21:03:15 [INFO] idaes.reaktoro_pse.core.reaktoro_jacobian: ('speciesAmount', 'H2O'): Jac type: exact\n",
      "2024-09-12 21:03:15 [INFO] idaes.reaktoro_pse.core.reaktoro_jacobian: ('speciesAmount', 'CO3-2'): Jac type: exact\n",
      "2024-09-12 21:03:15 [INFO] idaes.reaktoro_pse.core.reaktoro_jacobian: ('speciesAmount', 'CO2'): Jac type: exact\n",
      "2024-09-12 21:03:15 [INFO] idaes.reaktoro_pse.core.reaktoro_jacobian: ('speciesAmount', 'Ca+2'): Jac type: exact\n",
      "2024-09-12 21:03:15 [INFO] idaes.reaktoro_pse.core.reaktoro_jacobian: ('speciesAmount', 'Cl-'): Jac type: exact\n",
      "2024-09-12 21:03:15 [INFO] idaes.reaktoro_pse.core.reaktoro_jacobian: ('speciesAmount', 'HCO3-'): Jac type: exact\n",
      "2024-09-12 21:03:15 [INFO] idaes.reaktoro_pse.core.reaktoro_jacobian: ('speciesAmount', 'SO4-2'): Jac type: exact\n",
      "2024-09-12 21:03:15 [INFO] idaes.reaktoro_pse.core.reaktoro_jacobian: ('speciesAmount', 'HSO4-'): Jac type: exact\n",
      "2024-09-12 21:03:15 [INFO] idaes.reaktoro_pse.core.reaktoro_jacobian: ('speciesAmount', 'Mg+2'): Jac type: exact\n",
      "2024-09-12 21:03:15 [INFO] idaes.reaktoro_pse.core.reaktoro_jacobian: ('speciesAmount', 'K+'): Jac type: exact\n",
      "2024-09-12 21:03:15 [INFO] idaes.reaktoro_pse.core.reaktoro_jacobian: ('speciesAmount', 'MgCO3'): Jac type: exact\n",
      "2024-09-12 21:03:15 [INFO] idaes.reaktoro_pse.core.reaktoro_jacobian: ('speciesAmount', 'MgOH+'): Jac type: exact\n",
      "2024-09-12 21:03:15 [INFO] idaes.reaktoro_pse.core.reaktoro_jacobian: ('speciesAmount', 'Na+'): Jac type: exact\n",
      "2024-09-12 21:03:15 [INFO] idaes.reaktoro_pse.core.reaktoro_jacobian: ('speciesAmount', 'OH-'): Jac type: exact\n",
      "2024-09-12 21:03:15 [INFO] idaes.reaktoro_pse.core.reaktoro_jacobian: -----done-----\n"
     ]
    }
   ],
   "source": [
    "m.fs.feed.reaktoro_properties.display_jacobian_outputs()"
   ]
  },
  {
   "cell_type": "markdown",
   "metadata": {},
   "source": [
    "## Updating Jacobian scaling \n",
    "In some cases we need to manually scale output Jacobian values, as they can get overscaled via automatic scaling.\n",
    "This can be done during creating of ReaktoroBlock by passing \"jacobian_user_scaling\" option with a dictionary of output indexes and scaling factor to apply. In some cases it might be more convenient to update scaling factor later.\n",
    "\n",
    "Example below shows updating scaling factor using built in function set_jacboian_scaling, the scaling will be applied to both speciation block (if built) and main block\n"
   ]
  },
  {
   "cell_type": "code",
   "execution_count": 48,
   "metadata": {},
   "outputs": [],
   "source": [
    "m.fs.feed.reaktoro_properties.update_jacobian_scaling({(\"density\", None): 1000})"
   ]
  },
  {
   "cell_type": "markdown",
   "metadata": {},
   "source": [
    "### Inspect reakotor states"
   ]
  },
  {
   "cell_type": "code",
   "execution_count": 49,
   "metadata": {},
   "outputs": [
    {
     "name": "stdout",
     "output_type": "stream",
     "text": [
      "2024-09-12 21:03:15 [INFO] idaes.reaktoro_pse.reaktoro_block: -----Displaying information for speciation block ------\n",
      "2024-09-12 21:03:15 [INFO] idaes.reaktoro_pse.reaktoro_block: +-----------------+------------+------+\n",
      "| Property        |      Value | Unit |\n",
      "+-----------------+------------+------+\n",
      "| Temperature     |   298.0000 |    K |\n",
      "| Pressure        |     1.0132 |  bar |\n",
      "| Charge:         | 5.3807e-02 |  mol |\n",
      "| Element Amount: |            |      |\n",
      "| :: H            | 1.0713e+02 |  mol |\n",
      "| :: C            | 2.2512e-03 |  mol |\n",
      "| :: O            | 5.3677e+01 |  mol |\n",
      "| :: Na           | 4.4310e-01 |  mol |\n",
      "| :: Mg           | 5.0108e-02 |  mol |\n",
      "| :: S            | 2.6610e-02 |  mol |\n",
      "| :: Cl           | 4.6272e-01 |  mol |\n",
      "| :: K            | 9.3791e-03 |  mol |\n",
      "| :: Ca           | 9.6310e-03 |  mol |\n",
      "| Species Amount: |            |      |\n",
      "| :: H+           | 3.6980e-08 |  mol |\n",
      "| :: H2O          | 5.3563e+01 |  mol |\n",
      "| :: CO3-2        | 2.1445e-05 |  mol |\n",
      "| :: CO2          | 8.1147e-05 |  mol |\n",
      "| :: Ca+2         | 9.6310e-03 |  mol |\n",
      "| :: Cl-          | 4.6272e-01 |  mol |\n",
      "| :: HCO3-        | 2.1284e-03 |  mol |\n",
      "| :: SO4-2        | 2.6610e-02 |  mol |\n",
      "| :: HSO4-        | 1.0015e-08 |  mol |\n",
      "| :: Mg+2         | 5.0088e-02 |  mol |\n",
      "| :: K+           | 9.3791e-03 |  mol |\n",
      "| :: MgCO3        | 2.0220e-05 |  mol |\n",
      "| :: MgOH+        | 6.1448e-07 |  mol |\n",
      "| :: Na+          | 4.4310e-01 |  mol |\n",
      "| :: OH-          | 5.8203e-07 |  mol |\n",
      "+-----------------+------------+------+\n",
      "2024-09-12 21:03:15 [INFO] idaes.reaktoro_pse.reaktoro_block: -----Displaying information for property block ------\n",
      "2024-09-12 21:03:15 [INFO] idaes.reaktoro_pse.reaktoro_block: +-----------------+------------+------+\n",
      "| Property        |      Value | Unit |\n",
      "+-----------------+------------+------+\n",
      "| Temperature     |   298.0000 |    K |\n",
      "| Pressure        |     1.0132 |  bar |\n",
      "| Charge:         | 5.3807e-02 |  mol |\n",
      "| Element Amount: |            |      |\n",
      "| :: H            | 1.0713e+02 |  mol |\n",
      "| :: C            | 2.2512e-03 |  mol |\n",
      "| :: O            | 5.3677e+01 |  mol |\n",
      "| :: Na           | 4.4310e-01 |  mol |\n",
      "| :: Mg           | 5.0108e-02 |  mol |\n",
      "| :: S            | 2.6610e-02 |  mol |\n",
      "| :: Cl           | 4.6272e-01 |  mol |\n",
      "| :: K            | 9.3791e-03 |  mol |\n",
      "| :: Ca           | 9.6310e-03 |  mol |\n",
      "| Species Amount: |            |      |\n",
      "| :: H+           | 3.6980e-08 |  mol |\n",
      "| :: H2O          | 5.3563e+01 |  mol |\n",
      "| :: CO3-2        | 2.1445e-05 |  mol |\n",
      "| :: CO2          | 8.1147e-05 |  mol |\n",
      "| :: Ca+2         | 9.6310e-03 |  mol |\n",
      "| :: Cl-          | 4.6272e-01 |  mol |\n",
      "| :: HCO3-        | 2.1284e-03 |  mol |\n",
      "| :: SO4-2        | 2.6610e-02 |  mol |\n",
      "| :: HSO4-        | 1.0015e-08 |  mol |\n",
      "| :: Mg+2         | 5.0088e-02 |  mol |\n",
      "| :: K+           | 9.3791e-03 |  mol |\n",
      "| :: MgCO3        | 2.0220e-05 |  mol |\n",
      "| :: MgOH+        | 6.1448e-07 |  mol |\n",
      "| :: Na+          | 4.4310e-01 |  mol |\n",
      "| :: OH-          | 5.8203e-07 |  mol |\n",
      "+-----------------+------------+------+\n"
     ]
    }
   ],
   "source": [
    "m.fs.feed.reaktoro_properties.display_reaktoro_state()"
   ]
  },
  {
   "cell_type": "markdown",
   "metadata": {},
   "source": [
    "### Lets solve the current model to:\n",
    "* Find actual mass flows of species \n",
    "* Solution density\n",
    "* Required Cl amount to get zero charge in solution\n",
    "* Dose of HCl ot get to pH of 7"
   ]
  },
  {
   "cell_type": "code",
   "execution_count": 50,
   "metadata": {},
   "outputs": [],
   "source": [
    "# unfix Cl and fix charge to 0\n",
    "\n",
    "m.fs.feed.species_concentrations[\"Cl\"].unfix()\n",
    "m.fs.feed.reaktoro_charge.fix(0)\n",
    "# fix our target pH\n",
    "m.fs.feed.reaktoro_adjusted_pH.fix(7)"
   ]
  },
  {
   "cell_type": "markdown",
   "metadata": {},
   "source": [
    "Lets check DOFs before solve, and note that its equal to number of our reaktoro outputs"
   ]
  },
  {
   "cell_type": "code",
   "execution_count": 51,
   "metadata": {},
   "outputs": [
    {
     "name": "stdout",
     "output_type": "stream",
     "text": [
      "DOFs: 36\n",
      "Number of Reaktoro speciation block outputs 15\n",
      "Number of Reaktoro outputs 21\n",
      "Total number of outputs on reaktoro 36\n",
      "Actual DOFs: 0\n"
     ]
    }
   ],
   "source": [
    "print(\"DOFs:\", degrees_of_freedom(m))\n",
    "outputs_main_block = len(m.fs.feed.reaktoro_properties.reaktoro_model.outputs)\n",
    "outputs_speciation_block = len(\n",
    "    m.fs.feed.reaktoro_properties.speciation_block.reaktoro_model.outputs\n",
    ")\n",
    "print(\"Number of Reaktoro speciation block outputs\", outputs_speciation_block)\n",
    "print(\"Number of Reaktoro outputs\", outputs_main_block)\n",
    "print(\n",
    "    \"Total number of outputs on reaktoro\", outputs_main_block + outputs_speciation_block\n",
    ")\n",
    "print(\n",
    "    \"Actual DOFs:\",\n",
    "    degrees_of_freedom(m) - (outputs_main_block + outputs_speciation_block),\n",
    ")\n",
    "assert degrees_of_freedom(m) - (outputs_main_block + outputs_speciation_block) == 0"
   ]
  },
  {
   "cell_type": "code",
   "execution_count": 52,
   "metadata": {},
   "outputs": [
    {
     "name": "stdout",
     "output_type": "stream",
     "text": [
      "cyipopt-watertap: cyipopt with user variable scaling and IDAES jacobian constraint scaling\n",
      "This is Ipopt version 3.14.16, running with linear solver MUMPS 5.7.2.\n",
      "\n",
      "Number of nonzeros in equality constraint Jacobian...:      749\n",
      "Number of nonzeros in inequality constraint Jacobian.:        0\n",
      "Number of nonzeros in Lagrangian Hessian.............:       14\n",
      "\n",
      "Total number of variables............................:      118\n",
      "                     variables with only lower bounds:       41\n",
      "                variables with lower and upper bounds:        7\n",
      "                     variables with only upper bounds:        0\n",
      "Total number of equality constraints.................:      118\n",
      "Total number of inequality constraints...............:        0\n",
      "        inequality constraints with only lower bounds:        0\n",
      "   inequality constraints with lower and upper bounds:        0\n",
      "        inequality constraints with only upper bounds:        0\n",
      "\n",
      "iter    objective    inf_pr   inf_du lg(mu)  ||d||  lg(rg) alpha_du alpha_pr  ls\n",
      "   0  0.0000000e+00 5.38e+06 1.00e+00  -1.0 0.00e+00    -  0.00e+00 0.00e+00   0\n",
      "   1  0.0000000e+00 4.04e+01 8.92e+03  -1.0 5.38e+06    -  9.54e-01 1.00e+00h  1\n",
      "   2  0.0000000e+00 9.11e-04 8.83e+00  -1.0 8.49e+01    -  9.90e-01 1.00e+00h  1\n",
      "   3  0.0000000e+00 6.48e-07 7.22e-02  -1.0 1.34e-02    -  9.90e-01 1.00e+00h  1\n",
      "   4  0.0000000e+00 9.91e-11 0.00e+00  -1.0 9.14e-06    -  9.90e-01 1.00e+00h  1\n",
      "\n",
      "Number of Iterations....: 4\n",
      "\n",
      "                                   (scaled)                 (unscaled)\n",
      "Objective...............:   0.0000000000000000e+00    0.0000000000000000e+00\n",
      "Dual infeasibility......:   0.0000000000000000e+00    0.0000000000000000e+00\n",
      "Constraint violation....:   9.9088737215424771e-11    9.9088737215424771e-11\n",
      "Variable bound violation:   0.0000000000000000e+00    0.0000000000000000e+00\n",
      "Complementarity.........:   0.0000000000000000e+00    0.0000000000000000e+00\n",
      "Overall NLP error.......:   9.9088737215424771e-11    9.9088737215424771e-11\n",
      "\n",
      "\n",
      "Number of objective function evaluations             = 5\n",
      "Number of objective gradient evaluations             = 5\n",
      "Number of equality constraint evaluations            = 5\n",
      "Number of inequality constraint evaluations          = 0\n",
      "Number of equality constraint Jacobian evaluations   = 5\n",
      "Number of inequality constraint Jacobian evaluations = 0\n",
      "Number of Lagrangian Hessian evaluations             = 4\n",
      "Total seconds in IPOPT                               = 0.477\n",
      "\n",
      "EXIT: Optimal Solution Found.\n"
     ]
    }
   ],
   "source": [
    "initial_cl = m.fs.feed.species_concentrations[\"Cl\"].value\n",
    "cy_solver = get_solver(solver=\"cyipopt-watertap\")\n",
    "\n",
    "cy_solver.options[\"max_iter\"] = 25\n",
    "\n",
    "result = cy_solver.solve(m, tee=True)\n",
    "assert_optimal_termination(result)"
   ]
  },
  {
   "cell_type": "code",
   "execution_count": 53,
   "metadata": {},
   "outputs": [
    {
     "name": "stdout",
     "output_type": "stream",
     "text": [
      "Density reaktoro 1022.447491237185 Density Seawater pack 1021.7122612878533\n",
      "Osmotic pressure 2386602.544686371 Density Seawater pack 2394583.849539473\n",
      "Adjusted pH 7 Acid dose 8.433046282104545 Acid mass flow 7.95922502815656e-06\n",
      "Solution reaktoro_charge 0 intial Cl 17000 final Cl 18976.76540015999\n"
     ]
    }
   ],
   "source": [
    "print(\n",
    "    \"Density reaktoro\",\n",
    "    m.fs.feed.reaktoro_density.value,\n",
    "    f\"Density {prop_pack} pack\",\n",
    "    m.fs.feed.properties[0].dens_mass_phase[\"Liq\"].value,\n",
    ")\n",
    "print(\n",
    "    \"Osmotic pressure\",\n",
    "    m.fs.feed.reaktoro_osmotic_pressure.value,\n",
    "    f\"Density {prop_pack} pack\",\n",
    "    m.fs.feed.properties[0].pressure_osm_phase[\"Liq\"].value,\n",
    ")\n",
    "print(\n",
    "    \"Adjusted pH\",\n",
    "    m.fs.feed.reaktoro_adjusted_pH.value,\n",
    "    \"Acid dose\",\n",
    "    m.fs.acid_dose.value,\n",
    "    \"Acid mass flow\",\n",
    "    m.fs.acid_mass_flow.value,\n",
    ")\n",
    "print(\n",
    "    \"Solution reaktoro_charge\",\n",
    "    m.fs.feed.reaktoro_charge.value,\n",
    "    \"intial Cl\",\n",
    "    initial_cl,\n",
    "    \"final Cl\",\n",
    "    m.fs.feed.species_concentrations[\"Cl\"].value,\n",
    ")"
   ]
  },
  {
   "cell_type": "markdown",
   "metadata": {},
   "source": [
    "### Adding [WaterTAP RO model](https://watertap.readthedocs.io/en/stable/technical_reference/unit_models/reverse_osmosis_1D.html) and replacing default osmotic pressure with reaktoro calculations.\n",
    "Import WaterTAP 1D RO model and pump, and build them.\n"
   ]
  },
  {
   "cell_type": "code",
   "execution_count": 54,
   "metadata": {},
   "outputs": [],
   "source": [
    "from watertap.unit_models.reverse_osmosis_1D import (\n",
    "    ReverseOsmosis1D,\n",
    "    ConcentrationPolarizationType,\n",
    "    MassTransferCoefficient,\n",
    "    PressureChangeType,\n",
    ")\n",
    "from watertap.unit_models.pressure_changer import Pump\n",
    "\n",
    "m.fs.pump = Pump(property_package=m.fs.properties)\n",
    "m.fs.RO = ReverseOsmosis1D(\n",
    "    property_package=m.fs.properties,\n",
    "    has_pressure_change=True,\n",
    "    pressure_change_type=PressureChangeType.calculated,\n",
    "    mass_transfer_coefficient=MassTransferCoefficient.calculated,\n",
    "    concentration_polarization_type=ConcentrationPolarizationType.calculated,\n",
    "    transformation_scheme=\"BACKWARD\",\n",
    "    transformation_method=\"dae.finite_difference\",\n",
    "    finite_elements=10,\n",
    ")\n",
    "# connect feed to pump\n",
    "m.fs.feed_to_pump = Arc(source=m.fs.feed.outlet, destination=m.fs.pump.inlet)\n",
    "# connect pump to RO unit\n",
    "m.fs.pump_to_ro = Arc(source=m.fs.pump.outlet, destination=m.fs.RO.inlet)\n",
    "# Expand arcs\n",
    "TransformationFactory(\"network.expand_arcs\").apply_to(m)"
   ]
  },
  {
   "cell_type": "markdown",
   "metadata": {},
   "source": [
    "Add reaktoro blocks for osmotic pressure calculations. \n",
    "\n",
    "To do so we need to have estimates of apparent species at each node, they will be different from the feed due to removal of water by the processes and phenomena called concentration polarization which will increase salts near the surface. This requires creating new speciation mass flow composition indexed for each node in RO model, and constraints to do the translation from NaCl package to species.\n",
    "\n",
    "At each node the water flow is same as that in RO model, but each specie flow mass is described by equation below:\n",
    "$$ m_{ro}[node, specie] = m_{feed}[specie]*m_{ro}[node, NaCl]/m_{feed}[NaCl]  $$"
   ]
  },
  {
   "cell_type": "code",
   "execution_count": 55,
   "metadata": {},
   "outputs": [],
   "source": [
    "indexes = list(m.fs.RO.length_domain)\n",
    "\n",
    "indexes.pop(0)  # zeros domain does not do anything in RO so we remove it.\n",
    "\n",
    "# build an indexed mass flow of species in RO (indexing will be [node, specie])\n",
    "m.fs.RO.species_mass_flow = Var(\n",
    "    indexes,\n",
    "    list(m.fs.feed.species_mass_flow.keys()),\n",
    "    initialize=1,\n",
    "    units=pyunits.kg / pyunits.s,\n",
    "    domain=Reals,\n",
    ")  # make sure to provide correct units!\n",
    "\n",
    "\n",
    "# build constraints for translating NaCl mass flow in RO at membrane surface to apparent specie mass flow\n",
    "@m.fs.Constraint(list(m.fs.RO.species_mass_flow.keys()))\n",
    "def eq_ro_interphase_flow_mass_comp(fs, idx, ion):\n",
    "    if ion == \"H2O\":  # flow of water is same\n",
    "        return (\n",
    "            m.fs.RO.species_mass_flow[idx, \"H2O\"]\n",
    "            == m.fs.RO.feed_side.properties_interface[0.0, idx].flow_mass_phase_comp[\n",
    "                \"Liq\", \"H2O\"\n",
    "            ]\n",
    "        )\n",
    "    else:\n",
    "        return (\n",
    "            m.fs.RO.species_mass_flow[idx, ion]\n",
    "            == m.fs.feed.species_mass_flow[ion]\n",
    "            * m.fs.RO.feed_side.properties_interface[0.0, idx].flow_mass_phase_comp[\n",
    "                (\"Liq\", bulk_ion)\n",
    "            ]\n",
    "            / m.fs.feed.properties[0].flow_mass_phase_comp[(\"Liq\", bulk_ion)]\n",
    "        )"
   ]
  },
  {
   "cell_type": "markdown",
   "metadata": {},
   "source": [
    "We need to setup outputs for RO model, indexed Reaktoro block expects that index is included in with requested property such that: \n",
    "\n",
    "{(index, property, property_index):Var}   e.g. {(1,\"osmoticPressure\",\"H2O\"):Var}\n",
    "\n",
    "Here we will pack together osmotic pressure, scaling tendency and pH as outputs together to be returned by ReaktoroBlock on each node. "
   ]
  },
  {
   "cell_type": "code",
   "execution_count": 56,
   "metadata": {},
   "outputs": [],
   "source": [
    "m.fs.RO.indexed_outputs = {}\n",
    "for idx in indexes:\n",
    "    m.fs.RO.indexed_outputs[(idx, \"osmoticPressure\", \"H2O\")] = (\n",
    "        m.fs.RO.feed_side.properties_interface[0.0, idx].pressure_osm_phase[\"Liq\"]\n",
    "    )\n",
    "\n",
    "# create sclaing tendcies with indexes\n",
    "m.fs.RO.scaling_tendency = Var(\n",
    "    indexes,\n",
    "    ((\"scalingTendency\", \"Calcite\"), (\"scalingTendency\", \"Gypsum\")),\n",
    "    initialize=1,\n",
    ")\n",
    "set_scaling_factor(m.fs.RO.scaling_tendency, 1)\n",
    "\n",
    "# create indexed pH\n",
    "m.fs.RO.interphase_pH = Var(\n",
    "    indexes,\n",
    "    [(\"pH\", None)],\n",
    "    initialize=1,\n",
    ")\n",
    "set_scaling_factor(m.fs.RO.interphase_pH, 1)\n",
    "\n",
    "# package them all together\n",
    "\n",
    "for idx, obj in m.fs.RO.scaling_tendency.items():\n",
    "    m.fs.RO.indexed_outputs[idx] = obj\n",
    "for idx, obj in m.fs.RO.interphase_pH.items():\n",
    "    m.fs.RO.indexed_outputs[idx] = obj\n",
    "\n",
    "# Similarly, we need to repackage ro feed pressure so ReaktoroBlock can properly process it\n",
    "m.fs.ro_pressure = {}\n",
    "for idx in indexes:\n",
    "    m.fs.ro_pressure[idx] = m.fs.RO.feed_side.properties_interface[0.0, idx].pressure"
   ]
  },
  {
   "cell_type": "markdown",
   "metadata": {},
   "source": [
    "Lets check that our outputs are correctly packaged"
   ]
  },
  {
   "cell_type": "code",
   "execution_count": 57,
   "metadata": {},
   "outputs": [
    {
     "name": "stdout",
     "output_type": "stream",
     "text": [
      "(0.1, 'osmoticPressure', 'H2O') fs.RO.feed_side.properties_interface[0.0,0.1].pressure_osm_phase[Liq]\n",
      "(0.2, 'osmoticPressure', 'H2O') fs.RO.feed_side.properties_interface[0.0,0.2].pressure_osm_phase[Liq]\n",
      "(0.3, 'osmoticPressure', 'H2O') fs.RO.feed_side.properties_interface[0.0,0.3].pressure_osm_phase[Liq]\n",
      "(0.4, 'osmoticPressure', 'H2O') fs.RO.feed_side.properties_interface[0.0,0.4].pressure_osm_phase[Liq]\n",
      "(0.5, 'osmoticPressure', 'H2O') fs.RO.feed_side.properties_interface[0.0,0.5].pressure_osm_phase[Liq]\n",
      "(0.6, 'osmoticPressure', 'H2O') fs.RO.feed_side.properties_interface[0.0,0.6].pressure_osm_phase[Liq]\n",
      "(0.7, 'osmoticPressure', 'H2O') fs.RO.feed_side.properties_interface[0.0,0.7].pressure_osm_phase[Liq]\n",
      "(0.8, 'osmoticPressure', 'H2O') fs.RO.feed_side.properties_interface[0.0,0.8].pressure_osm_phase[Liq]\n",
      "(0.9, 'osmoticPressure', 'H2O') fs.RO.feed_side.properties_interface[0.0,0.9].pressure_osm_phase[Liq]\n",
      "(1.0, 'osmoticPressure', 'H2O') fs.RO.feed_side.properties_interface[0.0,1.0].pressure_osm_phase[Liq]\n",
      "(0.1, 'scalingTendency', 'Calcite') fs.RO.scaling_tendency[0.1,scalingTendency,Calcite]\n",
      "(0.1, 'scalingTendency', 'Gypsum') fs.RO.scaling_tendency[0.1,scalingTendency,Gypsum]\n",
      "(0.2, 'scalingTendency', 'Calcite') fs.RO.scaling_tendency[0.2,scalingTendency,Calcite]\n",
      "(0.2, 'scalingTendency', 'Gypsum') fs.RO.scaling_tendency[0.2,scalingTendency,Gypsum]\n",
      "(0.3, 'scalingTendency', 'Calcite') fs.RO.scaling_tendency[0.3,scalingTendency,Calcite]\n",
      "(0.3, 'scalingTendency', 'Gypsum') fs.RO.scaling_tendency[0.3,scalingTendency,Gypsum]\n",
      "(0.4, 'scalingTendency', 'Calcite') fs.RO.scaling_tendency[0.4,scalingTendency,Calcite]\n",
      "(0.4, 'scalingTendency', 'Gypsum') fs.RO.scaling_tendency[0.4,scalingTendency,Gypsum]\n",
      "(0.5, 'scalingTendency', 'Calcite') fs.RO.scaling_tendency[0.5,scalingTendency,Calcite]\n",
      "(0.5, 'scalingTendency', 'Gypsum') fs.RO.scaling_tendency[0.5,scalingTendency,Gypsum]\n",
      "(0.6, 'scalingTendency', 'Calcite') fs.RO.scaling_tendency[0.6,scalingTendency,Calcite]\n",
      "(0.6, 'scalingTendency', 'Gypsum') fs.RO.scaling_tendency[0.6,scalingTendency,Gypsum]\n",
      "(0.7, 'scalingTendency', 'Calcite') fs.RO.scaling_tendency[0.7,scalingTendency,Calcite]\n",
      "(0.7, 'scalingTendency', 'Gypsum') fs.RO.scaling_tendency[0.7,scalingTendency,Gypsum]\n",
      "(0.8, 'scalingTendency', 'Calcite') fs.RO.scaling_tendency[0.8,scalingTendency,Calcite]\n",
      "(0.8, 'scalingTendency', 'Gypsum') fs.RO.scaling_tendency[0.8,scalingTendency,Gypsum]\n",
      "(0.9, 'scalingTendency', 'Calcite') fs.RO.scaling_tendency[0.9,scalingTendency,Calcite]\n",
      "(0.9, 'scalingTendency', 'Gypsum') fs.RO.scaling_tendency[0.9,scalingTendency,Gypsum]\n",
      "(1.0, 'scalingTendency', 'Calcite') fs.RO.scaling_tendency[1.0,scalingTendency,Calcite]\n",
      "(1.0, 'scalingTendency', 'Gypsum') fs.RO.scaling_tendency[1.0,scalingTendency,Gypsum]\n",
      "(0.1, 'pH', None) fs.RO.interphase_pH[0.1,pH,None]\n",
      "(0.2, 'pH', None) fs.RO.interphase_pH[0.2,pH,None]\n",
      "(0.3, 'pH', None) fs.RO.interphase_pH[0.3,pH,None]\n",
      "(0.4, 'pH', None) fs.RO.interphase_pH[0.4,pH,None]\n",
      "(0.5, 'pH', None) fs.RO.interphase_pH[0.5,pH,None]\n",
      "(0.6, 'pH', None) fs.RO.interphase_pH[0.6,pH,None]\n",
      "(0.7, 'pH', None) fs.RO.interphase_pH[0.7,pH,None]\n",
      "(0.8, 'pH', None) fs.RO.interphase_pH[0.8,pH,None]\n",
      "(0.9, 'pH', None) fs.RO.interphase_pH[0.9,pH,None]\n",
      "(1.0, 'pH', None) fs.RO.interphase_pH[1.0,pH,None]\n"
     ]
    }
   ],
   "source": [
    "for key, obj in m.fs.RO.indexed_outputs.items():\n",
    "    print(key, obj)"
   ]
  },
  {
   "cell_type": "markdown",
   "metadata": {},
   "source": [
    "Finally, lets build all the reaktoro blocks."
   ]
  },
  {
   "cell_type": "code",
   "execution_count": 58,
   "metadata": {},
   "outputs": [
    {
     "name": "stdout",
     "output_type": "stream",
     "text": [
      "2024-09-12 21:03:16 [INFO] idaes.reaktoro_pse.core.reaktoro_inputs: Exact speciation is not provided! Fixing aqueous solvent and, excluding H\n",
      "2024-09-12 21:03:16 [INFO] idaes.reaktoro_pse.core.reaktoro_inputs: Exact speciation is not provided! Fixing aqueous solvent and, excluding O\n",
      "2024-09-12 21:03:16 [INFO] idaes.reaktoro_pse.core.reaktoro_gray_box: RKT gray box using BFGS hessian type\n",
      "2024-09-12 21:03:16 [INFO] idaes.reaktoro_pse.core.reaktoro_inputs: Exact speciation is not provided! Fixing aqueous solvent and, excluding O\n",
      "2024-09-12 21:03:16 [INFO] idaes.reaktoro_pse.core.reaktoro_inputs: Exact speciation is not provided! Fixing aqueous solvent and, excluding H\n",
      "2024-09-12 21:03:16 [INFO] idaes.reaktoro_pse.core.reaktoro_gray_box: RKT gray box using BFGS hessian type\n",
      "2024-09-12 21:03:16 [INFO] idaes.reaktoro_pse.core.reaktoro_inputs: Exact speciation is not provided! Fixing aqueous solvent and, excluding H\n",
      "2024-09-12 21:03:16 [INFO] idaes.reaktoro_pse.core.reaktoro_inputs: Exact speciation is not provided! Fixing aqueous solvent and, excluding O\n",
      "2024-09-12 21:03:16 [INFO] idaes.reaktoro_pse.core.reaktoro_gray_box: RKT gray box using BFGS hessian type\n",
      "2024-09-12 21:03:16 [INFO] idaes.reaktoro_pse.core.reaktoro_inputs: Exact speciation is not provided! Fixing aqueous solvent and, excluding H\n",
      "2024-09-12 21:03:16 [INFO] idaes.reaktoro_pse.core.reaktoro_inputs: Exact speciation is not provided! Fixing aqueous solvent and, excluding O\n",
      "2024-09-12 21:03:17 [INFO] idaes.reaktoro_pse.core.reaktoro_gray_box: RKT gray box using BFGS hessian type\n",
      "2024-09-12 21:03:17 [INFO] idaes.reaktoro_pse.core.reaktoro_inputs: Exact speciation is not provided! Fixing aqueous solvent and, excluding O\n",
      "2024-09-12 21:03:17 [INFO] idaes.reaktoro_pse.core.reaktoro_inputs: Exact speciation is not provided! Fixing aqueous solvent and, excluding H\n",
      "2024-09-12 21:03:17 [INFO] idaes.reaktoro_pse.core.reaktoro_gray_box: RKT gray box using BFGS hessian type\n",
      "2024-09-12 21:03:17 [INFO] idaes.reaktoro_pse.core.reaktoro_inputs: Exact speciation is not provided! Fixing aqueous solvent and, excluding H\n",
      "2024-09-12 21:03:17 [INFO] idaes.reaktoro_pse.core.reaktoro_inputs: Exact speciation is not provided! Fixing aqueous solvent and, excluding O\n",
      "2024-09-12 21:03:17 [INFO] idaes.reaktoro_pse.core.reaktoro_gray_box: RKT gray box using BFGS hessian type\n",
      "2024-09-12 21:03:17 [INFO] idaes.reaktoro_pse.core.reaktoro_inputs: Exact speciation is not provided! Fixing aqueous solvent and, excluding H\n",
      "2024-09-12 21:03:17 [INFO] idaes.reaktoro_pse.core.reaktoro_inputs: Exact speciation is not provided! Fixing aqueous solvent and, excluding O\n",
      "2024-09-12 21:03:18 [INFO] idaes.reaktoro_pse.core.reaktoro_gray_box: RKT gray box using BFGS hessian type\n",
      "2024-09-12 21:03:18 [INFO] idaes.reaktoro_pse.core.reaktoro_inputs: Exact speciation is not provided! Fixing aqueous solvent and, excluding O\n",
      "2024-09-12 21:03:18 [INFO] idaes.reaktoro_pse.core.reaktoro_inputs: Exact speciation is not provided! Fixing aqueous solvent and, excluding H\n",
      "2024-09-12 21:03:18 [INFO] idaes.reaktoro_pse.core.reaktoro_gray_box: RKT gray box using BFGS hessian type\n",
      "2024-09-12 21:03:18 [INFO] idaes.reaktoro_pse.core.reaktoro_inputs: Exact speciation is not provided! Fixing aqueous solvent and, excluding H\n",
      "2024-09-12 21:03:18 [INFO] idaes.reaktoro_pse.core.reaktoro_inputs: Exact speciation is not provided! Fixing aqueous solvent and, excluding O\n",
      "2024-09-12 21:03:18 [INFO] idaes.reaktoro_pse.core.reaktoro_gray_box: RKT gray box using BFGS hessian type\n",
      "2024-09-12 21:03:18 [INFO] idaes.reaktoro_pse.core.reaktoro_inputs: Exact speciation is not provided! Fixing aqueous solvent and, excluding H\n",
      "2024-09-12 21:03:18 [INFO] idaes.reaktoro_pse.core.reaktoro_inputs: Exact speciation is not provided! Fixing aqueous solvent and, excluding O\n",
      "2024-09-12 21:03:19 [INFO] idaes.reaktoro_pse.core.reaktoro_gray_box: RKT gray box using BFGS hessian type\n"
     ]
    }
   ],
   "source": [
    "m.fs.eq_ro_chem_props = ReaktoroBlock(\n",
    "    indexes,\n",
    "    aqueous_phase={\n",
    "        \"composition\": m.fs.RO.species_mass_flow,  # This is the spices mass flow\n",
    "        \"convert_to_rkt_species\": True,  # We can use default converter as its defined for default database (Phreeqc and pitzer)\n",
    "        \"activity_model\": reaktoro.ActivityModelPitzer(),  # Can provide a string, or Reaktoro initialized class\n",
    "        \"fixed_solvent_specie\": \"H2O\",  # We need to define our aqueous solvent as we have to speciate the block\n",
    "    },\n",
    "    system_state={\n",
    "        \"temperature\": m.fs.feed.properties[0].temperature,\n",
    "        \"temperature_indexed\": False,\n",
    "        \"pressure\": m.fs.ro_pressure,\n",
    "        \"pH\": m.fs.feed.reaktoro_adjusted_pH,\n",
    "        \"pH_indexed\": False,  # we are not providing unique pH at each node, so lets disable indexing for it\n",
    "    },\n",
    "    outputs=m.fs.RO.indexed_outputs,  # outputs we desired\n",
    "    database=\"PhreeqcDatabase\",  # Can provide a string, or Reaktoro initialized class reaktor.PhreeqcDatabase()\n",
    "    database_file=\"pitzer.dat\",  # needs to be a string that names the database file or points to its location\n",
    "    dissolve_species_in_reaktoro=True,  # This will sum up all species into elements in Reaktoro directly, if set to false, it will build Pyomo constraints instead\n",
    "    assert_charge_neutrality=False,  # This is True by Default, but here we actually want to adjust the input speciation till the charge is zero\n",
    "    build_speciation_block=False,\n",
    ")"
   ]
  },
  {
   "cell_type": "markdown",
   "metadata": {},
   "source": [
    "Configure RO defaults and scale the model"
   ]
  },
  {
   "cell_type": "code",
   "execution_count": 59,
   "metadata": {},
   "outputs": [
    {
     "name": "stdout",
     "output_type": "stream",
     "text": [
      "2024-09-12 21:03:19 [WARNING] idaes.core.util.scaling: Missing scaling factor for fs.RO.feed_side.area\n"
     ]
    }
   ],
   "source": [
    "m.fs.feed.properties[0].pressure_osm_phase[...]\n",
    "# define pump defaults\n",
    "m.fs.pump.efficiency_pump[0].fix(0.75)\n",
    "# scale work and pressures for the pump\n",
    "set_scaling_factor(m.fs.pump.control_volume.work, 1e-4)\n",
    "set_scaling_factor(m.fs.pump.control_volume.properties_out[0].pressure, 1e-5)\n",
    "set_scaling_factor(m.fs.pump.control_volume.properties_in[0].pressure, 1e-5)\n",
    "\n",
    "# define RO default values for initialization\n",
    "# we opt to specify stage area, and inlet velocity\n",
    "# unfixing width and area\n",
    "# We also apply variable scaling as we set up each default parameter\n",
    "\n",
    "m.fs.RO.feed_side.velocity[0, 0].fix(0.1)\n",
    "m.fs.RO.area.fix(100)\n",
    "set_scaling_factor(m.fs.RO.area, 1 / 50)\n",
    "m.fs.RO.length.unfix()\n",
    "set_scaling_factor(m.fs.RO.length, 0.1)\n",
    "m.fs.RO.width.unfix()\n",
    "set_scaling_factor(m.fs.RO.width, 0.1)\n",
    "\n",
    "# we need to specify RO permeate pressure\n",
    "m.fs.RO.permeate.pressure[0].fix(101325)\n",
    "# we need to specify default values for default mass transport\n",
    "# and friction factor correlations\n",
    "m.fs.RO.feed_side.channel_height.fix(1e-3)\n",
    "m.fs.RO.feed_side.spacer_porosity.fix(0.9)\n",
    "\n",
    "# Specify default A and B values, these are defined as m/s/Pa and m/s, respectively.\n",
    "m.fs.RO.A_comp[0, \"H2O\"].fix(3 / (3600 * 1000 * 1e5))\n",
    "m.fs.RO.B_comp[0, bulk_ion].fix(0.15 / (3600 * 1000))\n",
    "\n",
    "# calculate all the scaling factors\n",
    "calculate_scaling_factors(m)"
   ]
  },
  {
   "cell_type": "markdown",
   "metadata": {},
   "source": [
    "Initialize RO model and pump"
   ]
  },
  {
   "cell_type": "code",
   "execution_count": 60,
   "metadata": {},
   "outputs": [
    {
     "name": "stdout",
     "output_type": "stream",
     "text": [
      "Osmotic pressure is 23.94583849539473 bar\n",
      "2024-09-12 21:03:19 [INFO] idaes.init.fs.pump.control_volume.properties_out: fs.pump.control_volume.properties_out State Released.\n",
      "2024-09-12 21:03:19 [INFO] idaes.init.fs.pump.control_volume: Initialization Complete\n",
      "2024-09-12 21:03:19 [INFO] idaes.init.fs.pump.control_volume.properties_in: fs.pump.control_volume.properties_in State Released.\n",
      "2024-09-12 21:03:19 [INFO] idaes.init.fs.pump: Initialization Complete: optimal - Optimal Solution Found\n",
      "2024-09-12 21:03:19 [INFO] idaes.init.fs.RO.feed_side: Initialization Complete\n",
      "2024-09-12 21:03:19 [INFO] idaes.init.fs.RO.feed_side.properties: fs.RO.feed_side.properties State Released.\n",
      "2024-09-12 21:03:19 [INFO] idaes.init.fs.RO.feed_side.properties_interface: fs.RO.feed_side.properties_interface State Released.\n",
      "2024-09-12 21:03:20 [INFO] idaes.init.fs.RO.permeate_side: fs.RO.permeate_side State Released.\n",
      "2024-09-12 21:03:20 [INFO] idaes.init.fs.RO.mixed_permeate: fs.RO.mixed_permeate State Released.\n",
      "2024-09-12 21:03:21 [INFO] idaes.watertap.core.util.initialization: variable fs.RO.feed_side.material_flow_dx[0.0,0.0,Liq,H2O] has no initial value: setting to 0.0\n",
      "2024-09-12 21:03:21 [INFO] idaes.watertap.core.util.initialization: variable fs.RO.feed_side.material_flow_dx[0.0,0.0,Liq,TDS] has no initial value: setting to 0.0\n",
      "2024-09-12 21:03:21 [INFO] idaes.watertap.core.util.initialization: variable fs.RO.feed_side.material_flow_dx[0.0,0.1,Liq,H2O] has no initial value: setting to 0.0\n",
      "2024-09-12 21:03:21 [INFO] idaes.watertap.core.util.initialization: variable fs.RO.feed_side.material_flow_dx[0.0,0.1,Liq,TDS] has no initial value: setting to 0.0\n",
      "2024-09-12 21:03:21 [INFO] idaes.watertap.core.util.initialization: variable fs.RO.feed_side.material_flow_dx[0.0,0.2,Liq,H2O] has no initial value: setting to 0.0\n",
      "2024-09-12 21:03:21 [INFO] idaes.watertap.core.util.initialization: variable fs.RO.feed_side.material_flow_dx[0.0,0.2,Liq,TDS] has no initial value: setting to 0.0\n",
      "2024-09-12 21:03:21 [INFO] idaes.watertap.core.util.initialization: variable fs.RO.feed_side.material_flow_dx[0.0,0.3,Liq,H2O] has no initial value: setting to 0.0\n",
      "2024-09-12 21:03:21 [INFO] idaes.watertap.core.util.initialization: variable fs.RO.feed_side.material_flow_dx[0.0,0.3,Liq,TDS] has no initial value: setting to 0.0\n",
      "2024-09-12 21:03:21 [INFO] idaes.watertap.core.util.initialization: variable fs.RO.feed_side.material_flow_dx[0.0,0.4,Liq,H2O] has no initial value: setting to 0.0\n",
      "2024-09-12 21:03:21 [INFO] idaes.watertap.core.util.initialization: variable fs.RO.feed_side.material_flow_dx[0.0,0.4,Liq,TDS] has no initial value: setting to 0.0\n",
      "2024-09-12 21:03:21 [INFO] idaes.watertap.core.util.initialization: variable fs.RO.feed_side.material_flow_dx[0.0,0.5,Liq,H2O] has no initial value: setting to 0.0\n",
      "2024-09-12 21:03:21 [INFO] idaes.watertap.core.util.initialization: variable fs.RO.feed_side.material_flow_dx[0.0,0.5,Liq,TDS] has no initial value: setting to 0.0\n",
      "2024-09-12 21:03:21 [INFO] idaes.watertap.core.util.initialization: variable fs.RO.feed_side.material_flow_dx[0.0,0.6,Liq,H2O] has no initial value: setting to 0.0\n",
      "2024-09-12 21:03:21 [INFO] idaes.watertap.core.util.initialization: variable fs.RO.feed_side.material_flow_dx[0.0,0.6,Liq,TDS] has no initial value: setting to 0.0\n",
      "2024-09-12 21:03:21 [INFO] idaes.watertap.core.util.initialization: variable fs.RO.feed_side.material_flow_dx[0.0,0.7,Liq,H2O] has no initial value: setting to 0.0\n",
      "2024-09-12 21:03:21 [INFO] idaes.watertap.core.util.initialization: variable fs.RO.feed_side.material_flow_dx[0.0,0.7,Liq,TDS] has no initial value: setting to 0.0\n",
      "2024-09-12 21:03:21 [INFO] idaes.watertap.core.util.initialization: variable fs.RO.feed_side.material_flow_dx[0.0,0.8,Liq,H2O] has no initial value: setting to 0.0\n",
      "2024-09-12 21:03:21 [INFO] idaes.watertap.core.util.initialization: variable fs.RO.feed_side.material_flow_dx[0.0,0.8,Liq,TDS] has no initial value: setting to 0.0\n",
      "2024-09-12 21:03:21 [INFO] idaes.watertap.core.util.initialization: variable fs.RO.feed_side.material_flow_dx[0.0,0.9,Liq,H2O] has no initial value: setting to 0.0\n",
      "2024-09-12 21:03:21 [INFO] idaes.watertap.core.util.initialization: variable fs.RO.feed_side.material_flow_dx[0.0,0.9,Liq,TDS] has no initial value: setting to 0.0\n",
      "2024-09-12 21:03:21 [INFO] idaes.watertap.core.util.initialization: variable fs.RO.feed_side.material_flow_dx[0.0,1.0,Liq,H2O] has no initial value: setting to 0.0\n",
      "2024-09-12 21:03:21 [INFO] idaes.watertap.core.util.initialization: variable fs.RO.feed_side.material_flow_dx[0.0,1.0,Liq,TDS] has no initial value: setting to 0.0\n",
      "2024-09-12 21:03:21 [INFO] idaes.watertap.core.util.initialization: variable fs.RO.feed_side.pressure_dx[0.0,0.0] has no initial value: setting to 0.0\n",
      "2024-09-12 21:03:21 [INFO] idaes.watertap.core.util.initialization: variable fs.RO.feed_side.pressure_dx[0.0,0.1] has no initial value: setting to 0.0\n",
      "2024-09-12 21:03:21 [INFO] idaes.watertap.core.util.initialization: variable fs.RO.feed_side.pressure_dx[0.0,0.2] has no initial value: setting to 0.0\n",
      "2024-09-12 21:03:21 [INFO] idaes.watertap.core.util.initialization: variable fs.RO.feed_side.pressure_dx[0.0,0.3] has no initial value: setting to 0.0\n",
      "2024-09-12 21:03:21 [INFO] idaes.watertap.core.util.initialization: variable fs.RO.feed_side.pressure_dx[0.0,0.4] has no initial value: setting to 0.0\n",
      "2024-09-12 21:03:21 [INFO] idaes.watertap.core.util.initialization: variable fs.RO.feed_side.pressure_dx[0.0,0.5] has no initial value: setting to 0.0\n",
      "2024-09-12 21:03:21 [INFO] idaes.watertap.core.util.initialization: variable fs.RO.feed_side.pressure_dx[0.0,0.6] has no initial value: setting to 0.0\n",
      "2024-09-12 21:03:21 [INFO] idaes.watertap.core.util.initialization: variable fs.RO.feed_side.pressure_dx[0.0,0.7] has no initial value: setting to 0.0\n",
      "2024-09-12 21:03:21 [INFO] idaes.watertap.core.util.initialization: variable fs.RO.feed_side.pressure_dx[0.0,0.8] has no initial value: setting to 0.0\n",
      "2024-09-12 21:03:21 [INFO] idaes.watertap.core.util.initialization: variable fs.RO.feed_side.pressure_dx[0.0,0.9] has no initial value: setting to 0.0\n",
      "2024-09-12 21:03:21 [INFO] idaes.watertap.core.util.initialization: variable fs.RO.feed_side.pressure_dx[0.0,1.0] has no initial value: setting to 0.0\n",
      "2024-09-12 21:03:22 [INFO] idaes.init.fs.RO: Initialization Complete: optimal - Optimal Solution Found\n"
     ]
    }
   ],
   "source": [
    "propagate_state(m.fs.feed_to_pump)\n",
    "# get osmotic pressure\n",
    "osmotic_feed_pressure = m.fs.feed.properties[0].pressure_osm_phase[\"Liq\"].value\n",
    "print(\"Osmotic pressure is {} bar\".format(osmotic_feed_pressure / 1e5))\n",
    "m.fs.pump.outlet.pressure[0].fix(osmotic_feed_pressure * 1.5)\n",
    "m.fs.pump.initialize(optarg=solver.options)\n",
    "\n",
    "propagate_state(m.fs.pump_to_ro)\n",
    "m.fs.RO.initialize(optarg=solver.options)"
   ]
  },
  {
   "cell_type": "markdown",
   "metadata": {},
   "source": [
    "Initialize water removal and deactivate RO osmotic pressure constraints"
   ]
  },
  {
   "cell_type": "code",
   "execution_count": 61,
   "metadata": {},
   "outputs": [],
   "source": [
    "for (idx, ion), obj in m.fs.RO.species_mass_flow.items():\n",
    "    calculate_variable_from_constraint(\n",
    "        m.fs.RO.species_mass_flow[idx, ion],\n",
    "        m.fs.eq_ro_interphase_flow_mass_comp[idx, ion],\n",
    "    )\n",
    "    sf = 1 / m.fs.feed.species_mass_flow[ion].value\n",
    "    set_scaling_factor(m.fs.RO.species_mass_flow[idx, ion], sf)\n",
    "    constraint_scaling_transform(m.fs.eq_ro_interphase_flow_mass_comp[idx, ion], sf)\n",
    "    m.fs.RO.feed_side.properties_interface[0.0, idx].eq_pressure_osm_phase[\n",
    "        \"Liq\"\n",
    "    ].deactivate()"
   ]
  },
  {
   "cell_type": "markdown",
   "metadata": {},
   "source": [
    "Initialize all the ReaktoroBlocks on RO model, we have to iterate over them as they are indexed blocks"
   ]
  },
  {
   "cell_type": "code",
   "execution_count": 62,
   "metadata": {},
   "outputs": [
    {
     "name": "stdout",
     "output_type": "stream",
     "text": [
      "2024-09-12 21:03:22 [INFO] idaes.reaktoro_pse.reaktoro_block: ---initializing property block fs.eq_ro_chem_props[0.1]----\n",
      "2024-09-12 21:03:22 [INFO] idaes.reaktoro_pse.core.reaktoro_state: Equilibrated successfully\n",
      "2024-09-12 21:03:22 [INFO] idaes.reaktoro_pse.core.reaktoro_block_builder: Initialized rkt block\n",
      "2024-09-12 21:03:22 [INFO] idaes.reaktoro_pse.reaktoro_block: ---initializing property block fs.eq_ro_chem_props[0.2]----\n",
      "2024-09-12 21:03:22 [INFO] idaes.reaktoro_pse.core.reaktoro_state: Equilibrated successfully\n",
      "2024-09-12 21:03:22 [INFO] idaes.reaktoro_pse.core.reaktoro_block_builder: Initialized rkt block\n",
      "2024-09-12 21:03:22 [INFO] idaes.reaktoro_pse.reaktoro_block: ---initializing property block fs.eq_ro_chem_props[0.3]----\n",
      "2024-09-12 21:03:22 [INFO] idaes.reaktoro_pse.core.reaktoro_state: Equilibrated successfully\n",
      "2024-09-12 21:03:23 [INFO] idaes.reaktoro_pse.core.reaktoro_block_builder: Initialized rkt block\n",
      "2024-09-12 21:03:23 [INFO] idaes.reaktoro_pse.reaktoro_block: ---initializing property block fs.eq_ro_chem_props[0.4]----\n",
      "2024-09-12 21:03:23 [INFO] idaes.reaktoro_pse.core.reaktoro_state: Equilibrated successfully\n",
      "2024-09-12 21:03:23 [INFO] idaes.reaktoro_pse.core.reaktoro_block_builder: Initialized rkt block\n",
      "2024-09-12 21:03:23 [INFO] idaes.reaktoro_pse.reaktoro_block: ---initializing property block fs.eq_ro_chem_props[0.5]----\n",
      "2024-09-12 21:03:23 [INFO] idaes.reaktoro_pse.core.reaktoro_state: Equilibrated successfully\n",
      "2024-09-12 21:03:23 [INFO] idaes.reaktoro_pse.core.reaktoro_block_builder: Initialized rkt block\n",
      "2024-09-12 21:03:23 [INFO] idaes.reaktoro_pse.reaktoro_block: ---initializing property block fs.eq_ro_chem_props[0.6]----\n",
      "2024-09-12 21:03:23 [INFO] idaes.reaktoro_pse.core.reaktoro_state: Equilibrated successfully\n",
      "2024-09-12 21:03:23 [INFO] idaes.reaktoro_pse.core.reaktoro_block_builder: Initialized rkt block\n",
      "2024-09-12 21:03:23 [INFO] idaes.reaktoro_pse.reaktoro_block: ---initializing property block fs.eq_ro_chem_props[0.7]----\n",
      "2024-09-12 21:03:23 [INFO] idaes.reaktoro_pse.core.reaktoro_state: Equilibrated successfully\n",
      "2024-09-12 21:03:23 [INFO] idaes.reaktoro_pse.core.reaktoro_block_builder: Initialized rkt block\n",
      "2024-09-12 21:03:23 [INFO] idaes.reaktoro_pse.reaktoro_block: ---initializing property block fs.eq_ro_chem_props[0.8]----\n",
      "2024-09-12 21:03:23 [INFO] idaes.reaktoro_pse.core.reaktoro_state: Equilibrated successfully\n",
      "2024-09-12 21:03:23 [INFO] idaes.reaktoro_pse.core.reaktoro_block_builder: Initialized rkt block\n",
      "2024-09-12 21:03:23 [INFO] idaes.reaktoro_pse.reaktoro_block: ---initializing property block fs.eq_ro_chem_props[0.9]----\n",
      "2024-09-12 21:03:23 [INFO] idaes.reaktoro_pse.core.reaktoro_state: Equilibrated successfully\n",
      "2024-09-12 21:03:23 [INFO] idaes.reaktoro_pse.core.reaktoro_block_builder: Initialized rkt block\n",
      "2024-09-12 21:03:23 [INFO] idaes.reaktoro_pse.reaktoro_block: ---initializing property block fs.eq_ro_chem_props[1.0]----\n",
      "2024-09-12 21:03:23 [INFO] idaes.reaktoro_pse.core.reaktoro_state: Equilibrated successfully\n",
      "2024-09-12 21:03:23 [INFO] idaes.reaktoro_pse.core.reaktoro_block_builder: Initialized rkt block\n"
     ]
    }
   ],
   "source": [
    "for blk, obj in m.fs.eq_ro_chem_props.items():\n",
    "    obj.initialize()"
   ]
  },
  {
   "cell_type": "markdown",
   "metadata": {},
   "source": [
    "Lets check our outputs make sense"
   ]
  },
  {
   "cell_type": "code",
   "execution_count": 63,
   "metadata": {},
   "outputs": [
    {
     "name": "stdout",
     "output_type": "stream",
     "text": [
      "(0.1, 'osmoticPressure', 'H2O') 2939053.1173533094\n",
      "(0.2, 'osmoticPressure', 'H2O') 3017519.2187516335\n",
      "(0.3, 'osmoticPressure', 'H2O') 3088095.0912943752\n",
      "(0.4, 'osmoticPressure', 'H2O') 3151184.836854797\n",
      "(0.5, 'osmoticPressure', 'H2O') 3207402.8896574676\n",
      "(0.6, 'osmoticPressure', 'H2O') 3257501.7266926733\n",
      "(0.7, 'osmoticPressure', 'H2O') 3302299.96848005\n",
      "(0.8, 'osmoticPressure', 'H2O') 3342615.6638003034\n",
      "(0.9, 'osmoticPressure', 'H2O') 3379209.6114756856\n",
      "(1.0, 'osmoticPressure', 'H2O') 3412744.264192903\n",
      "(0.1, 'scalingTendency', 'Calcite') 0.3904573895123874\n",
      "(0.1, 'scalingTendency', 'Gypsum') 0.23257824134667626\n",
      "(0.2, 'scalingTendency', 'Calcite') 0.40760984078519846\n",
      "(0.2, 'scalingTendency', 'Gypsum') 0.23886443474197938\n",
      "(0.3, 'scalingTendency', 'Calcite') 0.42331448907811065\n",
      "(0.3, 'scalingTendency', 'Gypsum') 0.24451680330654857\n",
      "(0.4, 'scalingTendency', 'Calcite') 0.4375762578057707\n",
      "(0.4, 'scalingTendency', 'Gypsum') 0.24956901966733036\n",
      "(0.5, 'scalingTendency', 'Calcite') 0.4504628522244636\n",
      "(0.5, 'scalingTendency', 'Gypsum') 0.2540712165336714\n",
      "(0.6, 'scalingTendency', 'Calcite') 0.46208907002059463\n",
      "(0.6, 'scalingTendency', 'Gypsum') 0.25808418536985545\n",
      "(0.7, 'scalingTendency', 'Calcite') 0.4725994427969109\n",
      "(0.7, 'scalingTendency', 'Gypsum') 0.2616737337701931\n",
      "(0.8, 'scalingTendency', 'Calcite') 0.4821508970510586\n",
      "(0.8, 'scalingTendency', 'Gypsum') 0.2649054593777289\n",
      "(0.9, 'scalingTendency', 'Calcite') 0.4908970652398945\n",
      "(0.9, 'scalingTendency', 'Gypsum') 0.26784021708637085\n",
      "(1.0, 'scalingTendency', 'Calcite') 0.498976165955778\n",
      "(1.0, 'scalingTendency', 'Gypsum') 0.27053090619127795\n",
      "(0.1, 'pH', None) 7.000000000000013\n",
      "(0.2, 'pH', None) 7.0\n",
      "(0.3, 'pH', None) 7.0\n",
      "(0.4, 'pH', None) 7.0\n",
      "(0.5, 'pH', None) 7.0\n",
      "(0.6, 'pH', None) 7.000000000000009\n",
      "(0.7, 'pH', None) 7.000000000000013\n",
      "(0.8, 'pH', None) 7.000000000000009\n",
      "(0.9, 'pH', None) 7.0\n",
      "(1.0, 'pH', None) 7.0\n"
     ]
    }
   ],
   "source": [
    "for key, obj in m.fs.RO.indexed_outputs.items():\n",
    "    print(key, obj.value)"
   ]
  },
  {
   "cell_type": "markdown",
   "metadata": {},
   "source": [
    "Solve RO model with new osmotic pressure calculation "
   ]
  },
  {
   "cell_type": "code",
   "execution_count": 64,
   "metadata": {},
   "outputs": [
    {
     "name": "stdout",
     "output_type": "stream",
     "text": [
      "cyipopt-watertap: cyipopt with user variable scaling and IDAES jacobian constraint scaling\n",
      "This is Ipopt version 3.14.16, running with linear solver MUMPS 5.7.2.\n",
      "\n",
      "Number of nonzeros in equality constraint Jacobian...:     3995\n",
      "Number of nonzeros in inequality constraint Jacobian.:        0\n",
      "Number of nonzeros in Lagrangian Hessian.............:      893\n",
      "\n",
      "Total number of variables............................:     1049\n",
      "                     variables with only lower bounds:      310\n",
      "                variables with lower and upper bounds:      410\n",
      "                     variables with only upper bounds:        0\n",
      "Total number of equality constraints.................:     1049\n",
      "Total number of inequality constraints...............:        0\n",
      "        inequality constraints with only lower bounds:        0\n",
      "   inequality constraints with lower and upper bounds:        0\n",
      "        inequality constraints with only upper bounds:        0\n",
      "\n",
      "iter    objective    inf_pr   inf_du lg(mu)  ||d||  lg(rg) alpha_du alpha_pr  ls\n",
      "   0  0.0000000e+00 8.37e+01 1.00e+00  -1.0 0.00e+00    -  0.00e+00 0.00e+00   0\n",
      "   1  0.0000000e+00 1.79e-02 7.35e+01  -1.0 3.03e-01    -  9.80e-01 1.00e+00h  1\n",
      "   2  0.0000000e+00 8.02e-05 6.91e+00  -1.0 2.97e-01    -  9.90e-01 1.00e+00h  1\n",
      "   3  0.0000000e+00 3.25e-09 0.00e+00  -1.0 1.37e-04    -  9.90e-01 1.00e+00h  1\n",
      "\n",
      "Number of Iterations....: 3\n",
      "\n",
      "                                   (scaled)                 (unscaled)\n",
      "Objective...............:   0.0000000000000000e+00    0.0000000000000000e+00\n",
      "Dual infeasibility......:   0.0000000000000000e+00    0.0000000000000000e+00\n",
      "Constraint violation....:   3.2514297920727131e-09    3.2514297920727131e-09\n",
      "Variable bound violation:   0.0000000000000000e+00    0.0000000000000000e+00\n",
      "Complementarity.........:   0.0000000000000000e+00    0.0000000000000000e+00\n",
      "Overall NLP error.......:   3.2514297920727131e-09    3.2514297920727131e-09\n",
      "\n",
      "\n",
      "Number of objective function evaluations             = 4\n",
      "Number of objective gradient evaluations             = 4\n",
      "Number of equality constraint evaluations            = 4\n",
      "Number of inequality constraint evaluations          = 0\n",
      "Number of equality constraint Jacobian evaluations   = 4\n",
      "Number of inequality constraint Jacobian evaluations = 0\n",
      "Number of Lagrangian Hessian evaluations             = 3\n",
      "Total seconds in IPOPT                               = 1.994\n",
      "\n",
      "EXIT: Optimal Solution Found.\n"
     ]
    }
   ],
   "source": [
    "result = cy_solver.solve(m, tee=True)\n",
    "assert_optimal_termination(result)"
   ]
  },
  {
   "cell_type": "markdown",
   "metadata": {},
   "source": [
    "# Compare osmotic pressure for NaCl vs Reaktoro"
   ]
  },
  {
   "cell_type": "code",
   "execution_count": 65,
   "metadata": {},
   "outputs": [
    {
     "data": {
      "image/png": "[encoded data removed]",
      "text/plain": [
       "<Figure size 640x480 with 1 Axes>"
      ]
     },
     "metadata": {},
     "output_type": "display_data"
    }
   ],
   "source": [
    "import matplotlib.pyplot as plt\n",
    "\n",
    "fig, ax = plt.subplots()\n",
    "\n",
    "reaktoro_osm = []\n",
    "sewater_prop_pack_osm = []\n",
    "for idx in indexes:\n",
    "    reaktoro_osm.append(\n",
    "        float(m.fs.RO.indexed_outputs[idx, \"osmoticPressure\", \"H2O\"].value / 1e5)\n",
    "    )\n",
    "    \"\"\" recalc pressure from prop pack package\"\"\"\n",
    "    calculate_variable_from_constraint(\n",
    "        m.fs.RO.indexed_outputs[idx, \"osmoticPressure\", \"H2O\"],\n",
    "        m.fs.RO.feed_side.properties_interface[0.0, idx].eq_pressure_osm_phase[\"Liq\"],\n",
    "    )\n",
    "    sewater_prop_pack_osm.append(\n",
    "        float(m.fs.RO.indexed_outputs[idx, \"osmoticPressure\", \"H2O\"].value / 1e5)\n",
    "    )\n",
    "\n",
    "ax.plot(indexes, reaktoro_osm, color=\"red\", label=\"Reaktoro\")\n",
    "ax.plot(\n",
    "    indexes, sewater_prop_pack_osm, color=\"black\", label=f\"{prop_pack} property pack\"\n",
    ")\n",
    "ax.set(xlabel=\"Node position\", ylabel=\"Osmotic pressure (Bar)\")\n",
    "plt.legend()\n",
    "plt.show()"
   ]
  },
  {
   "cell_type": "markdown",
   "metadata": {},
   "source": [
    "Check other properties"
   ]
  },
  {
   "cell_type": "code",
   "execution_count": 66,
   "metadata": {},
   "outputs": [
    {
     "data": {
      "image/png": "[encoded data removed]",
      "text/plain": [
       "<Figure size 640x480 with 1 Axes>"
      ]
     },
     "metadata": {},
     "output_type": "display_data"
    }
   ],
   "source": [
    "fig, ax = plt.subplots()\n",
    "\n",
    "scaling_calcite = []\n",
    "scaling_gypsum = []\n",
    "for idx in indexes:\n",
    "    scaling_calcite.append(\n",
    "        float(m.fs.RO.indexed_outputs[idx, \"scalingTendency\", \"Calcite\"].value)\n",
    "    )\n",
    "    scaling_gypsum.append(\n",
    "        float(m.fs.RO.indexed_outputs[idx, \"scalingTendency\", \"Gypsum\"].value)\n",
    "    )\n",
    "ax.plot(indexes, scaling_calcite, color=\"red\", label=\"Calcite\")\n",
    "ax.plot(indexes, scaling_gypsum, color=\"black\", label=\"Gypsum\")\n",
    "ax.set(xlabel=\"Node position\", ylabel=\"Scaling tendency\")\n",
    "plt.legend()\n",
    "plt.show()"
   ]
  },
  {
   "cell_type": "markdown",
   "metadata": {},
   "source": [
    "Solve RO for higher recovery. "
   ]
  },
  {
   "cell_type": "code",
   "execution_count": 67,
   "metadata": {},
   "outputs": [
    {
     "name": "stdout",
     "output_type": "stream",
     "text": [
      "Current recovery 0.266299075962888\n",
      "cyipopt-watertap: cyipopt with user variable scaling and IDAES jacobian constraint scaling\n",
      "This is Ipopt version 3.14.16, running with linear solver MUMPS 5.7.2.\n",
      "\n",
      "Number of nonzeros in equality constraint Jacobian...:     3999\n",
      "Number of nonzeros in inequality constraint Jacobian.:        0\n",
      "Number of nonzeros in Lagrangian Hessian.............:      896\n",
      "\n",
      "Total number of variables............................:     1049\n",
      "                     variables with only lower bounds:      310\n",
      "                variables with lower and upper bounds:      411\n",
      "                     variables with only upper bounds:        0\n",
      "Total number of equality constraints.................:     1049\n",
      "Total number of inequality constraints...............:        0\n",
      "        inequality constraints with only lower bounds:        0\n",
      "   inequality constraints with lower and upper bounds:        0\n",
      "        inequality constraints with only upper bounds:        0\n",
      "\n",
      "iter    objective    inf_pr   inf_du lg(mu)  ||d||  lg(rg) alpha_du alpha_pr  ls\n",
      "   0  0.0000000e+00 8.37e+01 1.00e+00  -1.0 0.00e+00    -  0.00e+00 0.00e+00   0\n",
      "   1  0.0000000e+00 3.80e+05 7.58e+05  -1.0 2.00e+02    -  8.75e-02 1.00e+00f  1\n",
      "   2  0.0000000e+00 4.19e+02 2.24e+05  -1.0 3.96e+06    -  4.86e-01 1.00e+00H  1\n",
      "   3  0.0000000e+00 5.29e-08 3.06e+00  -1.0 4.19e+02    -  9.90e-01 1.00e+00h  1\n",
      "   4  0.0000000e+00 2.59e-11 0.00e+00  -1.0 2.43e-06    -  9.90e-01 1.00e+00h  1\n",
      "\n",
      "Number of Iterations....: 4\n",
      "\n",
      "                                   (scaled)                 (unscaled)\n",
      "Objective...............:   0.0000000000000000e+00    0.0000000000000000e+00\n",
      "Dual infeasibility......:   0.0000000000000000e+00    0.0000000000000000e+00\n",
      "Constraint violation....:   2.5851321083791845e-11    2.5851321083791845e-11\n",
      "Variable bound violation:   0.0000000000000000e+00    0.0000000000000000e+00\n",
      "Complementarity.........:   0.0000000000000000e+00    0.0000000000000000e+00\n",
      "Overall NLP error.......:   2.5851321083791845e-11    2.5851321083791845e-11\n",
      "\n",
      "\n",
      "Number of objective function evaluations             = 5\n",
      "Number of objective gradient evaluations             = 5\n",
      "Number of equality constraint evaluations            = 7\n",
      "Number of inequality constraint evaluations          = 0\n",
      "Number of equality constraint Jacobian evaluations   = 5\n",
      "Number of inequality constraint Jacobian evaluations = 0\n",
      "Number of Lagrangian Hessian evaluations             = 4\n",
      "Total seconds in IPOPT                               = 4.254\n",
      "\n",
      "EXIT: Optimal Solution Found.\n"
     ]
    }
   ],
   "source": [
    "print(\"Current recovery\", m.fs.RO.recovery_vol_phase[0, \"Liq\"].value)\n",
    "m.fs.RO.recovery_vol_phase[0, \"Liq\"].fix(0.50)\n",
    "m.fs.pump.outlet.pressure[0].unfix()\n",
    "result = cy_solver.solve(m, tee=True)\n",
    "assert_optimal_termination(result)"
   ]
  },
  {
   "cell_type": "markdown",
   "metadata": {},
   "source": [
    "Plot comparison at higher recovery"
   ]
  },
  {
   "cell_type": "code",
   "execution_count": 68,
   "metadata": {},
   "outputs": [
    {
     "data": {
      "image/png": "[encoded data removed]",
      "text/plain": [
       "<Figure size 640x480 with 1 Axes>"
      ]
     },
     "metadata": {},
     "output_type": "display_data"
    },
    {
     "data": {
      "image/png": "[encoded data removed]",
      "text/plain": [
       "<Figure size 640x480 with 1 Axes>"
      ]
     },
     "metadata": {},
     "output_type": "display_data"
    }
   ],
   "source": [
    "fig, ax = plt.subplots()\n",
    "\n",
    "reaktoro_osm = []\n",
    "sewater_prop_pack_osm = []\n",
    "for idx in indexes:\n",
    "    reaktoro_osm.append(\n",
    "        float(m.fs.RO.indexed_outputs[idx, \"osmoticPressure\", \"H2O\"].value / 1e5)\n",
    "    )\n",
    "    calculate_variable_from_constraint(\n",
    "        m.fs.RO.indexed_outputs[idx, \"osmoticPressure\", \"H2O\"],\n",
    "        m.fs.RO.feed_side.properties_interface[0.0, idx].eq_pressure_osm_phase[\"Liq\"],\n",
    "    )\n",
    "    sewater_prop_pack_osm.append(\n",
    "        float(m.fs.RO.indexed_outputs[idx, \"osmoticPressure\", \"H2O\"].value / 1e5)\n",
    "    )\n",
    "\n",
    "ax.plot(indexes, reaktoro_osm, color=\"red\", label=\"Reaktoro\")\n",
    "ax.plot(\n",
    "    indexes, sewater_prop_pack_osm, color=\"black\", label=f\"{prop_pack} property pack\"\n",
    ")\n",
    "ax.set(xlabel=\"Node position\", ylabel=\"Osmotic pressure (Bar)\")\n",
    "plt.legend()\n",
    "\n",
    "fig, ax = plt.subplots()\n",
    "\n",
    "scaling_calcite = []\n",
    "scaling_gypsum = []\n",
    "for idx in indexes:\n",
    "    scaling_calcite.append(\n",
    "        float(m.fs.RO.indexed_outputs[idx, \"scalingTendency\", \"Calcite\"].value)\n",
    "    )\n",
    "    scaling_gypsum.append(\n",
    "        float(m.fs.RO.indexed_outputs[idx, \"scalingTendency\", \"Gypsum\"].value)\n",
    "    )\n",
    "ax.plot(indexes, scaling_calcite, color=\"red\", label=\"Calcite\")\n",
    "ax.plot(indexes, scaling_gypsum, color=\"black\", label=\"Gypsum\")\n",
    "ax.set(xlabel=\"Node position\", ylabel=\"Scaling tendency\")\n",
    "plt.legend()\n",
    "plt.show()"
   ]
  }
 ],
 "metadata": {
  "kernelspec": {
   "display_name": "reaktoro-pse-dev",
   "language": "python",
   "name": "python3"
  },
  "language_info": {
   "codemirror_mode": {
    "name": "ipython",
    "version": 3
   },
   "file_extension": ".py",
   "mimetype": "text/x-python",
   "name": "python",
   "nbconvert_exporter": "python",
   "pygments_lexer": "ipython3",
   "version": "3.11.9"
  }
 },
 "nbformat": 4,
 "nbformat_minor": 4
}
